{
  "nbformat": 4,
  "nbformat_minor": 0,
  "metadata": {
    "colab": {
      "name": "clusterboot.ipynb",
      "provenance": [],
      "collapsed_sections": [],
      "machine_shape": "hm",
      "authorship_tag": "ABX9TyMW/my7TnziVKz95PEMiYE9"
    },
    "kernelspec": {
      "display_name": "Python 3",
      "language": "python",
      "name": "python3"
    },
    "language_info": {
      "codemirror_mode": {
        "name": "ipython",
        "version": 3
      },
      "file_extension": ".py",
      "mimetype": "text/x-python",
      "name": "python",
      "nbconvert_exporter": "python",
      "pygments_lexer": "ipython3",
      "version": "3.7.10"
    }
  },
  "cells": [
    {
      "cell_type": "code",
      "metadata": {
        "colab": {
          "base_uri": "https://localhost:8080/"
        },
        "id": "DLNKcO07naV-",
        "outputId": "6964403a-9d4f-47a3-9b79-f76b88ed346e"
      },
      "source": [
        "pip install --upgrade kmodes"
      ],
      "execution_count": 1,
      "outputs": [
        {
          "output_type": "stream",
          "text": [
            "Collecting kmodes\n",
            "  Downloading https://files.pythonhosted.org/packages/9b/34/fffc601aa4d44b94e945a7cc72f477e09dffa7dce888898f2ffd9f4e343e/kmodes-0.11.0-py2.py3-none-any.whl\n",
            "Requirement already satisfied, skipping upgrade: scipy>=0.13.3 in /usr/local/lib/python3.7/dist-packages (from kmodes) (1.4.1)\n",
            "Requirement already satisfied, skipping upgrade: scikit-learn>=0.22.0 in /usr/local/lib/python3.7/dist-packages (from kmodes) (0.22.2.post1)\n",
            "Requirement already satisfied, skipping upgrade: numpy>=1.10.4 in /usr/local/lib/python3.7/dist-packages (from kmodes) (1.19.5)\n",
            "Requirement already satisfied, skipping upgrade: joblib>=0.11 in /usr/local/lib/python3.7/dist-packages (from kmodes) (1.0.1)\n",
            "Installing collected packages: kmodes\n",
            "Successfully installed kmodes-0.11.0\n"
          ],
          "name": "stdout"
        }
      ]
    },
    {
      "cell_type": "code",
      "metadata": {
        "id": "F8kCpwRBcUmZ"
      },
      "source": [
        "import pathlib\n",
        "import pandas as pd\n",
        "import numpy as np\n",
        "\n",
        "from kmodes.kprototypes import KPrototypes\n",
        "\n",
        "# scikit-learn bootstrap\n",
        "from sklearn.utils import resample"
      ],
      "execution_count": 2,
      "outputs": []
    },
    {
      "cell_type": "code",
      "metadata": {
        "id": "YOJ2DMRtTlwA"
      },
      "source": [
        "sourcepath = 'https://raw.githubusercontent.com/FTPGitHub/TDG/main/datos'"
      ],
      "execution_count": 3,
      "outputs": []
    },
    {
      "cell_type": "code",
      "metadata": {
        "id": "Jx27DskfTr5P"
      },
      "source": [
        "# Lee dataset estandarizado de transacciones\n",
        "data1 = pd.read_csv(\"{}/transacciones.csv\".format(sourcepath))"
      ],
      "execution_count": 4,
      "outputs": []
    },
    {
      "cell_type": "code",
      "metadata": {
        "id": "3Rrj_xgM8dR0"
      },
      "source": [
        "data1['AISLE']=data1['AISLE'].astype(str)"
      ],
      "execution_count": 5,
      "outputs": []
    },
    {
      "cell_type": "code",
      "metadata": {
        "colab": {
          "base_uri": "https://localhost:8080/"
        },
        "id": "c2Ke_0Fd8hCr",
        "outputId": "a41363dd-0657-4df2-a404-73a19988e35e"
      },
      "source": [
        "data1.dtypes"
      ],
      "execution_count": 6,
      "outputs": [
        {
          "output_type": "execute_result",
          "data": {
            "text/plain": [
              "AISLE        object\n",
              "IG           object\n",
              "HTS          object\n",
              "PLANNING     object\n",
              "ABC          object\n",
              "UOM          object\n",
              "CAT          object\n",
              "COSTX       float64\n",
              "QTYVAR      float64\n",
              "dtype: object"
            ]
          },
          "metadata": {
            "tags": []
          },
          "execution_count": 6
        }
      ]
    },
    {
      "cell_type": "code",
      "metadata": {
        "colab": {
          "base_uri": "https://localhost:8080/",
          "height": 202
        },
        "id": "ZMm8uKAB5w2L",
        "outputId": "9061c013-aa77-4858-8091-867b3bb09f89"
      },
      "source": [
        "data1.head(5)"
      ],
      "execution_count": 7,
      "outputs": [
        {
          "output_type": "execute_result",
          "data": {
            "text/html": [
              "<div>\n",
              "<style scoped>\n",
              "    .dataframe tbody tr th:only-of-type {\n",
              "        vertical-align: middle;\n",
              "    }\n",
              "\n",
              "    .dataframe tbody tr th {\n",
              "        vertical-align: top;\n",
              "    }\n",
              "\n",
              "    .dataframe thead th {\n",
              "        text-align: right;\n",
              "    }\n",
              "</style>\n",
              "<table border=\"1\" class=\"dataframe\">\n",
              "  <thead>\n",
              "    <tr style=\"text-align: right;\">\n",
              "      <th></th>\n",
              "      <th>AISLE</th>\n",
              "      <th>IG</th>\n",
              "      <th>HTS</th>\n",
              "      <th>PLANNING</th>\n",
              "      <th>ABC</th>\n",
              "      <th>UOM</th>\n",
              "      <th>CAT</th>\n",
              "      <th>COSTX</th>\n",
              "      <th>QTYVAR</th>\n",
              "    </tr>\n",
              "  </thead>\n",
              "  <tbody>\n",
              "    <tr>\n",
              "      <th>0</th>\n",
              "      <td>17</td>\n",
              "      <td>IG56</td>\n",
              "      <td>HTS119</td>\n",
              "      <td>1/1</td>\n",
              "      <td>B</td>\n",
              "      <td>PC</td>\n",
              "      <td>CAT17</td>\n",
              "      <td>-0.029976</td>\n",
              "      <td>-0.053250</td>\n",
              "    </tr>\n",
              "    <tr>\n",
              "      <th>1</th>\n",
              "      <td>17</td>\n",
              "      <td>IG56</td>\n",
              "      <td>HTS119</td>\n",
              "      <td>1/1</td>\n",
              "      <td>B</td>\n",
              "      <td>PC</td>\n",
              "      <td>CAT17</td>\n",
              "      <td>0.092472</td>\n",
              "      <td>-0.022999</td>\n",
              "    </tr>\n",
              "    <tr>\n",
              "      <th>2</th>\n",
              "      <td>17</td>\n",
              "      <td>IG56</td>\n",
              "      <td>HTS119</td>\n",
              "      <td>1/1</td>\n",
              "      <td>C</td>\n",
              "      <td>PC</td>\n",
              "      <td>CAT17</td>\n",
              "      <td>0.266130</td>\n",
              "      <td>0.004373</td>\n",
              "    </tr>\n",
              "    <tr>\n",
              "      <th>3</th>\n",
              "      <td>17</td>\n",
              "      <td>IG56</td>\n",
              "      <td>HTS119</td>\n",
              "      <td>1/1</td>\n",
              "      <td>B</td>\n",
              "      <td>PC</td>\n",
              "      <td>CAT17</td>\n",
              "      <td>-0.025112</td>\n",
              "      <td>-0.060323</td>\n",
              "    </tr>\n",
              "    <tr>\n",
              "      <th>4</th>\n",
              "      <td>15</td>\n",
              "      <td>IG56</td>\n",
              "      <td>HTS119</td>\n",
              "      <td>1/1</td>\n",
              "      <td>C</td>\n",
              "      <td>PC</td>\n",
              "      <td>CAT17</td>\n",
              "      <td>-0.077982</td>\n",
              "      <td>-0.062534</td>\n",
              "    </tr>\n",
              "  </tbody>\n",
              "</table>\n",
              "</div>"
            ],
            "text/plain": [
              "  AISLE    IG     HTS PLANNING ABC UOM    CAT     COSTX    QTYVAR\n",
              "0    17  IG56  HTS119      1/1   B  PC  CAT17 -0.029976 -0.053250\n",
              "1    17  IG56  HTS119      1/1   B  PC  CAT17  0.092472 -0.022999\n",
              "2    17  IG56  HTS119      1/1   C  PC  CAT17  0.266130  0.004373\n",
              "3    17  IG56  HTS119      1/1   B  PC  CAT17 -0.025112 -0.060323\n",
              "4    15  IG56  HTS119      1/1   C  PC  CAT17 -0.077982 -0.062534"
            ]
          },
          "metadata": {
            "tags": []
          },
          "execution_count": 7
        }
      ]
    },
    {
      "cell_type": "code",
      "metadata": {
        "colab": {
          "base_uri": "https://localhost:8080/"
        },
        "id": "mKgN0hVP7gHt",
        "outputId": "76e3e404-1ab8-408f-b87b-c31aba2d4898"
      },
      "source": [
        "data1.shape[0]"
      ],
      "execution_count": null,
      "outputs": [
        {
          "output_type": "execute_result",
          "data": {
            "text/plain": [
              "16239"
            ]
          },
          "metadata": {
            "tags": []
          },
          "execution_count": 8
        }
      ]
    },
    {
      "cell_type": "code",
      "metadata": {
        "id": "3nGJGoLXwce9"
      },
      "source": [
        "catColumnsPos = [data1.columns.get_loc(col) for col in list(data1.select_dtypes('object').columns)]"
      ],
      "execution_count": null,
      "outputs": []
    },
    {
      "cell_type": "code",
      "metadata": {
        "colab": {
          "base_uri": "https://localhost:8080/"
        },
        "id": "9roGsmo78TJb",
        "outputId": "7e10f3ae-d918-4e6c-fbb8-f08ac07dafc8"
      },
      "source": [
        "catColumnsPos"
      ],
      "execution_count": null,
      "outputs": [
        {
          "output_type": "execute_result",
          "data": {
            "text/plain": [
              "[0, 1, 2, 3, 4, 5, 6]"
            ]
          },
          "metadata": {
            "tags": []
          },
          "execution_count": 10
        }
      ]
    },
    {
      "cell_type": "code",
      "metadata": {
        "colab": {
          "base_uri": "https://localhost:8080/"
        },
        "id": "JffJGtXZiGP4",
        "outputId": "08fe478f-8a50-4805-9225-8824dca501e8"
      },
      "source": [
        "# Fit the cluster \n",
        "k = 2\n",
        "gamma = 0.5\n",
        "import time\n",
        "start_time = time.time()\n",
        "kprototype = KPrototypes(n_jobs = -1, n_clusters = k, init = 'Huang', gamma = gamma, random_state = 0)\n",
        "kprototype.fit_predict(data1, categorical = catColumnsPos)\n",
        "print(\"--- %s seconds ---\" % (time.time() - start_time))"
      ],
      "execution_count": null,
      "outputs": [
        {
          "output_type": "stream",
          "text": [
            "--- 66.5556890964508 seconds ---\n"
          ],
          "name": "stdout"
        }
      ]
    },
    {
      "cell_type": "code",
      "metadata": {
        "id": "QW70YNIl2Rrb"
      },
      "source": [
        "data1['Cluster'] = kprototype.labels_"
      ],
      "execution_count": null,
      "outputs": []
    },
    {
      "cell_type": "code",
      "metadata": {
        "id": "49O_REFNmKoB"
      },
      "source": [
        "def add2set (nuevos):\n",
        "  conjunto = {999999}\n",
        "  conjunto.update(nuevos)\n",
        "  conjunto.discard(999999)\n",
        "  return(conjunto)\n"
      ],
      "execution_count": null,
      "outputs": []
    },
    {
      "cell_type": "code",
      "metadata": {
        "id": "FLBEHg5NnInG"
      },
      "source": [
        "# k = 2 (dos conjuntos de puntos)\n",
        "orig0 = {}\n",
        "orig1 = {}"
      ],
      "execution_count": null,
      "outputs": []
    },
    {
      "cell_type": "code",
      "metadata": {
        "id": "Ym0PjPJymplI"
      },
      "source": [
        "orig0 = add2set(data1[data1['Cluster']==0].index)\n",
        "orig1 = add2set(data1[data1['Cluster']==1].index)"
      ],
      "execution_count": null,
      "outputs": []
    },
    {
      "cell_type": "code",
      "metadata": {
        "id": "CrXiLgnPZie2"
      },
      "source": [
        "data1.drop('Cluster', inplace=True, axis=1)"
      ],
      "execution_count": null,
      "outputs": []
    },
    {
      "cell_type": "code",
      "metadata": {
        "id": "cXTBFzEx_r4g"
      },
      "source": [
        "# Inicializamos la matriz de distancias con ceros\n",
        "import time\n",
        "start_time = time.time()\n",
        "nBootstrap = 100\n",
        "gamma = 0.5\n",
        "jaccard = [ [ 0 for i in range(k) ] for j in range(nBootstrap) ]\n",
        "boot0 = {}\n",
        "boot1 = {}"
      ],
      "execution_count": null,
      "outputs": []
    },
    {
      "cell_type": "code",
      "metadata": {
        "id": "bdvCr7HMdmXL"
      },
      "source": [
        "pd.options.mode.chained_assignment = None"
      ],
      "execution_count": null,
      "outputs": []
    },
    {
      "cell_type": "code",
      "metadata": {
        "colab": {
          "base_uri": "https://localhost:8080/"
        },
        "id": "tPRZIwBrBPXp",
        "outputId": "fa10587e-b0cf-4204-99bd-5870932c49a1"
      },
      "source": [
        "for i in range(nBootstrap):\n",
        "  print('bootstrap # ',i);\n",
        "  boot = resample(data1, replace=True, n_samples=data1.shape[0], random_state=i)\n",
        "  # Fit the cluster\n",
        "  kprototypebs = KPrototypes(n_jobs = -1, n_clusters = k, init = 'Huang', gamma = gamma, random_state = 1)\n",
        "  kprototypebs.fit_predict(boot, categorical = catColumnsPos)\n",
        "  boot['Cluster'] = kprototypebs.labels_\n",
        "  print(\"--- %s seconds ---\" % (time.time() - start_time));\n",
        "  boot0 = add2set(boot[boot['Cluster']==0].index)\n",
        "  boot1 = add2set(boot[boot['Cluster']==1].index)\n",
        "  jaccard[i][0]=max(len(orig0 & boot0) / len(orig0 | boot0), len(orig0 & boot1) / len(orig0 | boot1))\n",
        "  jaccard[i][1]=max(len(orig1 & boot0) / len(orig1 | boot0), len(orig1 & boot1) / len(orig1 | boot1))\n",
        "  boot.drop('Cluster', inplace=True, axis=1)\n",
        "  print(jaccard[i][0:k]);"
      ],
      "execution_count": null,
      "outputs": [
        {
          "output_type": "stream",
          "text": [
            "bootstrap #  0\n",
            "--- 52.933316469192505 seconds ---\n",
            "[0.6092843326885881, 0.6328904710444345]\n",
            "bootstrap #  1\n",
            "--- 103.35523295402527 seconds ---\n",
            "[0.586073500967118, 0.6288600838734274]\n",
            "bootstrap #  2\n",
            "--- 156.33497881889343 seconds ---\n",
            "[0.6150870406189555, 0.6322138276934798]\n",
            "bootstrap #  3\n",
            "--- 201.3859179019928 seconds ---\n",
            "[0.5783365570599613, 0.6347229283172343]\n",
            "bootstrap #  4\n",
            "--- 249.95306539535522 seconds ---\n",
            "[0.6312741312741312, 0.6301361149980919]\n",
            "bootstrap #  5\n",
            "--- 298.76789593696594 seconds ---\n",
            "[0.6354961832061069, 0.6320508744038156]\n",
            "bootstrap #  6\n",
            "--- 347.529177904129 seconds ---\n",
            "[0.5996131528046421, 0.630809333079026]\n",
            "bootstrap #  7\n",
            "--- 394.9036509990692 seconds ---\n",
            "[0.5846702317290553, 0.6335707925200356]\n",
            "bootstrap #  8\n",
            "--- 445.86148262023926 seconds ---\n",
            "[0.6365384615384615, 0.6336980027986261]\n",
            "bootstrap #  9\n",
            "--- 493.97935461997986 seconds ---\n",
            "[0.6305609284332688, 0.6388959552276774]\n",
            "bootstrap #  10\n",
            "--- 542.9597480297089 seconds ---\n",
            "[0.031243839936920953, 0.6003491489494357]\n",
            "bootstrap #  11\n",
            "--- 593.2305870056152 seconds ---\n",
            "[0.6384180790960452, 0.6300725098587966]\n",
            "bootstrap #  12\n",
            "--- 645.0150175094604 seconds ---\n",
            "[0.6344294003868471, 0.6277103071151523]\n",
            "bootstrap #  13\n",
            "--- 696.5166540145874 seconds ---\n",
            "[0.620889748549323, 0.632398753894081]\n",
            "bootstrap #  14\n",
            "--- 745.9969129562378 seconds ---\n",
            "[0.60727969348659, 0.6333799771021499]\n",
            "bootstrap #  15\n",
            "--- 794.2433528900146 seconds ---\n",
            "[0.5822050290135397, 0.6323847033413798]\n",
            "bootstrap #  16\n",
            "--- 840.671418428421 seconds ---\n",
            "[0.6421663442940039, 0.6299803012009912]\n",
            "bootstrap #  17\n",
            "--- 892.2076799869537 seconds ---\n",
            "[0.058047016274864374, 0.31357333672560744]\n",
            "bootstrap #  18\n",
            "--- 941.9749400615692 seconds ---\n",
            "[0.5899419729206963, 0.6296037592075184]\n",
            "bootstrap #  19\n",
            "--- 996.128406047821 seconds ---\n",
            "[0.6228893058161351, 0.6281643556799389]\n",
            "bootstrap #  20\n",
            "--- 1044.9176456928253 seconds ---\n",
            "[0.6164122137404581, 0.6281643556799389]\n",
            "bootstrap #  21\n",
            "--- 1087.8582694530487 seconds ---\n",
            "[0.5564053537284895, 0.6263882718791648]\n",
            "bootstrap #  22\n",
            "--- 1147.1313874721527 seconds ---\n",
            "[0.6069364161849711, 0.6293092481872535]\n",
            "bootstrap #  23\n",
            "--- 1192.9132730960846 seconds ---\n",
            "[0.0678139725466093, 0.354853072128228]\n",
            "bootstrap #  24\n",
            "--- 1256.7681651115417 seconds ---\n",
            "[0.6266924564796905, 0.628927617351482]\n",
            "bootstrap #  25\n",
            "--- 1306.0868525505066 seconds ---\n",
            "[0.6615087040618955, 0.6292292037649453]\n",
            "bootstrap #  26\n",
            "--- 1361.7313270568848 seconds ---\n",
            "[0.5965583173996176, 0.6298907520325203]\n",
            "bootstrap #  27\n",
            "--- 1409.1545279026031 seconds ---\n",
            "[0.6218809980806143, 0.6272102785905102]\n",
            "bootstrap #  28\n",
            "--- 1457.8482189178467 seconds ---\n",
            "[0.0580875781948168, 0.3164454415155481]\n",
            "bootstrap #  29\n",
            "--- 1513.252158164978 seconds ---\n",
            "[0.6172607879924953, 0.6277827248441674]\n",
            "bootstrap #  30\n",
            "--- 1562.7604084014893 seconds ---\n",
            "[0.6421663442940039, 0.6275669146163139]\n",
            "bootstrap #  31\n",
            "--- 1616.3460652828217 seconds ---\n",
            "[0.6150870406189555, 0.6332188732036118]\n",
            "bootstrap #  32\n",
            "--- 1665.81707072258 seconds ---\n",
            "[0.6150870406189555, 0.6317262434804732]\n",
            "bootstrap #  33\n",
            "--- 1718.8077373504639 seconds ---\n",
            "[0.590566037735849, 0.6329983462663783]\n",
            "bootstrap #  34\n",
            "--- 1768.1871674060822 seconds ---\n",
            "[0.6003861003861004, 0.6340160284951024]\n",
            "bootstrap #  35\n",
            "--- 1816.5902564525604 seconds ---\n",
            "[0.6169811320754717, 0.6293728533265488]\n",
            "bootstrap #  36\n",
            "--- 1865.8423526287079 seconds ---\n",
            "[0.6295585412667947, 0.6313446126447017]\n",
            "bootstrap #  37\n",
            "--- 1916.8501493930817 seconds ---\n",
            "[0.5124282982791587, 0.6278774811338702]\n",
            "bootstrap #  38\n",
            "--- 1984.4941251277924 seconds ---\n",
            "[0.030805913209346687, 0.621252726706139]\n",
            "bootstrap #  39\n",
            "--- 2037.4088344573975 seconds ---\n",
            "[0.583804143126177, 0.6293728533265488]\n",
            "bootstrap #  40\n",
            "--- 2084.1752231121063 seconds ---\n",
            "[0.6421663442940039, 0.6349589877281109]\n",
            "bootstrap #  41\n",
            "--- 2133.1632256507874 seconds ---\n",
            "[0.5697896749521989, 0.6322642108605907]\n",
            "bootstrap #  42\n",
            "--- 2183.9487557411194 seconds ---\n",
            "[0.6435452793834296, 0.6283551710978247]\n",
            "bootstrap #  43\n",
            "--- 2235.9077150821686 seconds ---\n",
            "[0.586073500967118, 0.6287638165417355]\n",
            "bootstrap #  44\n",
            "--- 2286.683087348938 seconds ---\n",
            "[0.6421663442940039, 0.6320442691769494]\n",
            "bootstrap #  45\n",
            "--- 2336.3514206409454 seconds ---\n",
            "[0.6363636363636364, 0.6330852890669719]\n",
            "bootstrap #  46\n",
            "--- 2382.2740139961243 seconds ---\n",
            "[0.6528301886792452, 0.6268286477547386]\n",
            "bootstrap #  47\n",
            "--- 2433.937837600708 seconds ---\n",
            "[0.6092843326885881, 0.6290127773186701]\n",
            "bootstrap #  48\n",
            "--- 2480.26198720932 seconds ---\n",
            "[0.5648854961832062, 0.6344468436428299]\n",
            "bootstrap #  49\n",
            "--- 2534.1695568561554 seconds ---\n",
            "[0.6110056925996205, 0.6280371454013485]\n",
            "bootstrap #  50\n",
            "--- 2588.4251370429993 seconds ---\n",
            "[0.6073500967117988, 0.6318967709127892]\n",
            "bootstrap #  51\n",
            "--- 2640.445701122284 seconds ---\n",
            "[0.5918762088974855, 0.6336639959303065]\n",
            "bootstrap #  52\n",
            "--- 2694.7580485343933 seconds ---\n",
            "[0.6499032882011605, 0.6349478769387236]\n",
            "bootstrap #  53\n",
            "--- 2749.397782802582 seconds ---\n",
            "[0.5755258126195029, 0.6264601320467242]\n",
            "bootstrap #  54\n",
            "--- 2799.4921107292175 seconds ---\n",
            "[0.5880077369439072, 0.6330729662792913]\n",
            "bootstrap #  55\n",
            "--- 2849.332303762436 seconds ---\n",
            "[0.6305609284332688, 0.6291727602212756]\n",
            "bootstrap #  56\n",
            "--- 2900.113856077194 seconds ---\n",
            "[0.6228239845261122, 0.6301901189037961]\n",
            "bootstrap #  57\n",
            "--- 2949.478849172592 seconds ---\n",
            "[0.5229885057471264, 0.636334792816803]\n",
            "bootstrap #  58\n",
            "--- 2998.2169795036316 seconds ---\n",
            "[0.6247582205029013, 0.6310333863275039]\n",
            "bootstrap #  59\n",
            "--- 3046.4919970035553 seconds ---\n",
            "[0.6402321083172147, 0.6327439257091974]\n",
            "bootstrap #  60\n",
            "--- 3095.510553598404 seconds ---\n",
            "[0.03106567046795124, 0.6020077316373613]\n",
            "bootstrap #  61\n",
            "--- 3145.754173517227 seconds ---\n",
            "[0.6363636363636364, 0.6329540397940373]\n",
            "bootstrap #  62\n",
            "--- 3199.4398012161255 seconds ---\n",
            "[0.5181644359464627, 0.6324238578680204]\n",
            "bootstrap #  63\n",
            "--- 3250.9084029197693 seconds ---\n",
            "[0.6544401544401545, 0.6308426073131955]\n",
            "bootstrap #  64\n",
            "--- 3294.612334251404 seconds ---\n",
            "[0.5561904761904762, 0.6280251540367148]\n",
            "bootstrap #  65\n",
            "--- 3349.237861633301 seconds ---\n",
            "[0.6139359698681732, 0.6318534537590638]\n",
            "bootstrap #  66\n",
            "--- 3398.966637134552 seconds ---\n",
            "[0.6155268022181146, 0.625429334690243]\n",
            "bootstrap #  67\n",
            "--- 3452.682699918747 seconds ---\n",
            "[0.5725190839694656, 0.6289615751032074]\n",
            "bootstrap #  68\n",
            "--- 3506.929484605789 seconds ---\n",
            "[0.6199616122840691, 0.6344612644701692]\n",
            "bootstrap #  69\n",
            "--- 3560.916743516922 seconds ---\n",
            "[0.6421663442940039, 0.6323118006103764]\n",
            "bootstrap #  70\n",
            "--- 3614.4713196754456 seconds ---\n",
            "[0.030846063454759105, 0.6045395024006984]\n",
            "bootstrap #  71\n",
            "--- 3662.214637517929 seconds ---\n",
            "[0.5996131528046421, 0.6278833322742581]\n",
            "bootstrap #  72\n",
            "--- 3715.0636253356934 seconds ---\n",
            "[0.6423076923076924, 0.6310901920875207]\n",
            "bootstrap #  73\n",
            "--- 3767.979238986969 seconds ---\n",
            "[0.6094339622641509, 0.6317262434804732]\n",
            "bootstrap #  74\n",
            "--- 3824.97403883934 seconds ---\n",
            "[0.5938104448742747, 0.6321174377224199]\n",
            "bootstrap #  75\n",
            "--- 3877.7075679302216 seconds ---\n",
            "[0.5623800383877159, 0.6331387231882218]\n",
            "bootstrap #  76\n",
            "--- 3930.6278007030487 seconds ---\n",
            "[0.6247582205029013, 0.628103371642644]\n",
            "bootstrap #  77\n",
            "--- 3984.6910433769226 seconds ---\n",
            "[0.5454545454545454, 0.6314051685821322]\n",
            "bootstrap #  78\n",
            "--- 4033.3986525535583 seconds ---\n",
            "[0.6382575757575758, 0.628927617351482]\n",
            "bootstrap #  79\n",
            "--- 4091.0299932956696 seconds ---\n",
            "[0.6403846153846153, 0.6289512179609489]\n",
            "bootstrap #  80\n",
            "--- 4141.714197874069 seconds ---\n",
            "[0.6344294003868471, 0.6297520661157024]\n",
            "bootstrap #  81\n",
            "--- 4193.609798908234 seconds ---\n",
            "[0.6808510638297872, 0.6322986897341305]\n",
            "bootstrap #  82\n",
            "--- 4241.733465909958 seconds ---\n",
            "[0.6319845857418112, 0.6309629818089302]\n",
            "bootstrap #  83\n",
            "--- 4293.829344987869 seconds ---\n",
            "[0.6134615384615385, 0.6329983462663783]\n",
            "bootstrap #  84\n",
            "--- 4344.174036026001 seconds ---\n",
            "[0.5783365570599613, 0.6297002032520326]\n",
            "bootstrap #  85\n",
            "--- 4394.9300129413605 seconds ---\n",
            "[0.6344294003868471, 0.6302772126144456]\n",
            "bootstrap #  86\n",
            "--- 4448.017923116684 seconds ---\n",
            "[0.6266924564796905, 0.6331150251160425]\n",
            "bootstrap #  87\n",
            "--- 4502.867273807526 seconds ---\n",
            "[0.06700507614213198, 0.3570792520035619]\n",
            "bootstrap #  88\n",
            "--- 4560.1698496341705 seconds ---\n",
            "[0.6382978723404256, 0.6297685656154629]\n",
            "bootstrap #  89\n",
            "--- 4610.494658708572 seconds ---\n",
            "[0.6054158607350096, 0.6295754956786985]\n",
            "bootstrap #  90\n",
            "--- 4664.4227340221405 seconds ---\n",
            "[0.06316422699017446, 0.34563032693041595]\n",
            "bootstrap #  91\n",
            "--- 4722.335712432861 seconds ---\n",
            "[0.6346516007532956, 0.6300089047195013]\n",
            "bootstrap #  92\n",
            "--- 4771.024639368057 seconds ---\n",
            "[0.5802707930367504, 0.6293191056910569]\n",
            "bootstrap #  93\n",
            "--- 4818.550241231918 seconds ---\n",
            "[0.6138996138996139, 0.6353577106518283]\n",
            "bootstrap #  94\n",
            "--- 4873.635558843613 seconds ---\n",
            "[0.5899419729206963, 0.6325817719911083]\n",
            "bootstrap #  95\n",
            "--- 4925.156202554703 seconds ---\n",
            "[0.6518375241779497, 0.6309599491417673]\n",
            "bootstrap #  96\n",
            "--- 4979.4876091480255 seconds ---\n",
            "[0.5996131528046421, 0.6294671245071856]\n",
            "bootstrap #  97\n",
            "--- 5031.573273420334 seconds ---\n",
            "[0.660952380952381, 0.631153797226816]\n",
            "bootstrap #  98\n",
            "--- 5082.801114559174 seconds ---\n",
            "[0.6086956521739131, 0.6320442691769494]\n",
            "bootstrap #  99\n",
            "--- 5132.225538730621 seconds ---\n",
            "[0.06253819515176207, 0.3538989950387991]\n"
          ],
          "name": "stdout"
        }
      ]
    },
    {
      "cell_type": "code",
      "metadata": {
        "id": "CUfNT7vkdtAa"
      },
      "source": [
        "pd.options.mode.chained_assignment = 'warn'"
      ],
      "execution_count": null,
      "outputs": []
    },
    {
      "cell_type": "code",
      "metadata": {
        "id": "VbFvAuPLpm89"
      },
      "source": [
        "jaccard = pd.DataFrame(jaccard)"
      ],
      "execution_count": null,
      "outputs": []
    },
    {
      "cell_type": "code",
      "metadata": {
        "colab": {
          "base_uri": "https://localhost:8080/",
          "height": 294
        },
        "id": "9zD44Dy5p7Lr",
        "outputId": "67d3fdcf-a232-4fc6-8e3f-05b9510e5ced"
      },
      "source": [
        "jaccard.describe()"
      ],
      "execution_count": null,
      "outputs": [
        {
          "output_type": "execute_result",
          "data": {
            "text/html": [
              "<div>\n",
              "<style scoped>\n",
              "    .dataframe tbody tr th:only-of-type {\n",
              "        vertical-align: middle;\n",
              "    }\n",
              "\n",
              "    .dataframe tbody tr th {\n",
              "        vertical-align: top;\n",
              "    }\n",
              "\n",
              "    .dataframe thead th {\n",
              "        text-align: right;\n",
              "    }\n",
              "</style>\n",
              "<table border=\"1\" class=\"dataframe\">\n",
              "  <thead>\n",
              "    <tr style=\"text-align: right;\">\n",
              "      <th></th>\n",
              "      <th>0</th>\n",
              "      <th>1</th>\n",
              "    </tr>\n",
              "  </thead>\n",
              "  <tbody>\n",
              "    <tr>\n",
              "      <th>count</th>\n",
              "      <td>100.000000</td>\n",
              "      <td>100.000000</td>\n",
              "    </tr>\n",
              "    <tr>\n",
              "      <th>mean</th>\n",
              "      <td>0.555371</td>\n",
              "      <td>0.612528</td>\n",
              "    </tr>\n",
              "    <tr>\n",
              "      <th>std</th>\n",
              "      <td>0.172055</td>\n",
              "      <td>0.069502</td>\n",
              "    </tr>\n",
              "    <tr>\n",
              "      <th>min</th>\n",
              "      <td>0.030806</td>\n",
              "      <td>0.313573</td>\n",
              "    </tr>\n",
              "    <tr>\n",
              "      <th>25%</th>\n",
              "      <td>0.583404</td>\n",
              "      <td>0.628307</td>\n",
              "    </tr>\n",
              "    <tr>\n",
              "      <th>50%</th>\n",
              "      <td>0.613681</td>\n",
              "      <td>0.630163</td>\n",
              "    </tr>\n",
              "    <tr>\n",
              "      <th>75%</th>\n",
              "      <td>0.634429</td>\n",
              "      <td>0.632405</td>\n",
              "    </tr>\n",
              "    <tr>\n",
              "      <th>max</th>\n",
              "      <td>0.680851</td>\n",
              "      <td>0.638896</td>\n",
              "    </tr>\n",
              "  </tbody>\n",
              "</table>\n",
              "</div>"
            ],
            "text/plain": [
              "                0           1\n",
              "count  100.000000  100.000000\n",
              "mean     0.555371    0.612528\n",
              "std      0.172055    0.069502\n",
              "min      0.030806    0.313573\n",
              "25%      0.583404    0.628307\n",
              "50%      0.613681    0.630163\n",
              "75%      0.634429    0.632405\n",
              "max      0.680851    0.638896"
            ]
          },
          "metadata": {
            "tags": []
          },
          "execution_count": 25
        }
      ]
    }
  ]
}