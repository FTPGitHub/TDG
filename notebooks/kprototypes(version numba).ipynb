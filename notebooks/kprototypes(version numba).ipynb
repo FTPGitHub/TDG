{
  "nbformat": 4,
  "nbformat_minor": 0,
  "metadata": {
    "kernelspec": {
      "display_name": "Python 3",
      "language": "python",
      "name": "python3"
    },
    "language_info": {
      "codemirror_mode": {
        "name": "ipython",
        "version": 3
      },
      "file_extension": ".py",
      "mimetype": "text/x-python",
      "name": "python",
      "nbconvert_exporter": "python",
      "pygments_lexer": "ipython3",
      "version": "3.7.10"
    },
    "colab": {
      "name": "kprototypes(version numba).ipynb",
      "provenance": [],
      "collapsed_sections": []
    }
  },
  "cells": [
    {
      "cell_type": "code",
      "metadata": {
        "id": "YN9mcVDyItYX",
        "colab": {
          "base_uri": "https://localhost:8080/"
        },
        "outputId": "f175a10f-936b-4ecb-a0a8-7b39407c905d"
      },
      "source": [
        "!pip install kmodes"
      ],
      "execution_count": null,
      "outputs": [
        {
          "output_type": "stream",
          "text": [
            "Requirement already satisfied: kmodes in /usr/local/lib/python3.7/dist-packages (0.11.0)\n",
            "Requirement already satisfied: joblib>=0.11 in /usr/local/lib/python3.7/dist-packages (from kmodes) (1.0.1)\n",
            "Requirement already satisfied: numpy>=1.10.4 in /usr/local/lib/python3.7/dist-packages (from kmodes) (1.19.5)\n",
            "Requirement already satisfied: scipy>=0.13.3 in /usr/local/lib/python3.7/dist-packages (from kmodes) (1.4.1)\n",
            "Requirement already satisfied: scikit-learn>=0.22.0 in /usr/local/lib/python3.7/dist-packages (from kmodes) (0.22.2.post1)\n"
          ],
          "name": "stdout"
        }
      ]
    },
    {
      "cell_type": "code",
      "metadata": {
        "id": "MJ6I3touItYg"
      },
      "source": [
        "import pathlib\n",
        "import pandas as pd\n",
        "import numpy as np\n",
        "import seaborn as sns\n",
        "import plotnine\n",
        "import matplotlib.pylab as plt\n",
        "import time\n",
        "\n",
        "from pathlib import Path\n",
        "from sklearn.metrics import silhouette_score\n",
        "from kmodes.kprototypes import KPrototypes\n",
        "from plotnine import *"
      ],
      "execution_count": null,
      "outputs": []
    },
    {
      "cell_type": "code",
      "metadata": {
        "id": "-8PofkkBItYh"
      },
      "source": [
        "sourcepath = 'https://raw.githubusercontent.com/FTPGitHub/TDG/main/datos'"
      ],
      "execution_count": null,
      "outputs": []
    },
    {
      "cell_type": "code",
      "metadata": {
        "id": "9luNzHhnItYi"
      },
      "source": [
        "# Lee dataset estandarizado de transacciones\n",
        "dfNoSupervisado1 = pd.read_csv(\"{}/transacciones.csv\".format(sourcepath))"
      ],
      "execution_count": null,
      "outputs": []
    },
    {
      "cell_type": "code",
      "metadata": {
        "id": "Y3SIlGeiKDh1"
      },
      "source": [
        "dfNoSupervisado1.AISLE = dfNoSupervisado1.AISLE.astype(str)"
      ],
      "execution_count": null,
      "outputs": []
    },
    {
      "cell_type": "code",
      "metadata": {
        "id": "Ki-K6AD5ItYj",
        "colab": {
          "base_uri": "https://localhost:8080/"
        },
        "outputId": "da4f8620-250a-4a93-c4e5-bddd187c2d32"
      },
      "source": [
        "dfNoSupervisado1.info()"
      ],
      "execution_count": null,
      "outputs": [
        {
          "output_type": "stream",
          "text": [
            "<class 'pandas.core.frame.DataFrame'>\n",
            "RangeIndex: 16239 entries, 0 to 16238\n",
            "Data columns (total 9 columns):\n",
            " #   Column    Non-Null Count  Dtype  \n",
            "---  ------    --------------  -----  \n",
            " 0   AISLE     16239 non-null  object \n",
            " 1   IG        16239 non-null  object \n",
            " 2   HTS       16239 non-null  object \n",
            " 3   PLANNING  16239 non-null  object \n",
            " 4   ABC       16239 non-null  object \n",
            " 5   UOM       16239 non-null  object \n",
            " 6   CAT       16239 non-null  object \n",
            " 7   COSTX     16239 non-null  float64\n",
            " 8   QTYVAR    16239 non-null  float64\n",
            "dtypes: float64(2), object(7)\n",
            "memory usage: 1.1+ MB\n"
          ],
          "name": "stdout"
        }
      ]
    },
    {
      "cell_type": "code",
      "metadata": {
        "id": "3Yw56hSJItYj",
        "colab": {
          "base_uri": "https://localhost:8080/",
          "height": 202
        },
        "outputId": "0ce0da8c-7a92-4a16-9e6c-49201e609c16"
      },
      "source": [
        "dfNoSupervisado1.head()"
      ],
      "execution_count": null,
      "outputs": [
        {
          "output_type": "execute_result",
          "data": {
            "text/html": [
              "<div>\n",
              "<style scoped>\n",
              "    .dataframe tbody tr th:only-of-type {\n",
              "        vertical-align: middle;\n",
              "    }\n",
              "\n",
              "    .dataframe tbody tr th {\n",
              "        vertical-align: top;\n",
              "    }\n",
              "\n",
              "    .dataframe thead th {\n",
              "        text-align: right;\n",
              "    }\n",
              "</style>\n",
              "<table border=\"1\" class=\"dataframe\">\n",
              "  <thead>\n",
              "    <tr style=\"text-align: right;\">\n",
              "      <th></th>\n",
              "      <th>AISLE</th>\n",
              "      <th>IG</th>\n",
              "      <th>HTS</th>\n",
              "      <th>PLANNING</th>\n",
              "      <th>ABC</th>\n",
              "      <th>UOM</th>\n",
              "      <th>CAT</th>\n",
              "      <th>COSTX</th>\n",
              "      <th>QTYVAR</th>\n",
              "    </tr>\n",
              "  </thead>\n",
              "  <tbody>\n",
              "    <tr>\n",
              "      <th>0</th>\n",
              "      <td>17</td>\n",
              "      <td>IG56</td>\n",
              "      <td>HTS119</td>\n",
              "      <td>1/1</td>\n",
              "      <td>B</td>\n",
              "      <td>PC</td>\n",
              "      <td>CAT17</td>\n",
              "      <td>-0.029976</td>\n",
              "      <td>-0.053250</td>\n",
              "    </tr>\n",
              "    <tr>\n",
              "      <th>1</th>\n",
              "      <td>17</td>\n",
              "      <td>IG56</td>\n",
              "      <td>HTS119</td>\n",
              "      <td>1/1</td>\n",
              "      <td>B</td>\n",
              "      <td>PC</td>\n",
              "      <td>CAT17</td>\n",
              "      <td>0.092472</td>\n",
              "      <td>-0.022999</td>\n",
              "    </tr>\n",
              "    <tr>\n",
              "      <th>2</th>\n",
              "      <td>17</td>\n",
              "      <td>IG56</td>\n",
              "      <td>HTS119</td>\n",
              "      <td>1/1</td>\n",
              "      <td>C</td>\n",
              "      <td>PC</td>\n",
              "      <td>CAT17</td>\n",
              "      <td>0.266130</td>\n",
              "      <td>0.004373</td>\n",
              "    </tr>\n",
              "    <tr>\n",
              "      <th>3</th>\n",
              "      <td>17</td>\n",
              "      <td>IG56</td>\n",
              "      <td>HTS119</td>\n",
              "      <td>1/1</td>\n",
              "      <td>B</td>\n",
              "      <td>PC</td>\n",
              "      <td>CAT17</td>\n",
              "      <td>-0.025112</td>\n",
              "      <td>-0.060323</td>\n",
              "    </tr>\n",
              "    <tr>\n",
              "      <th>4</th>\n",
              "      <td>15</td>\n",
              "      <td>IG56</td>\n",
              "      <td>HTS119</td>\n",
              "      <td>1/1</td>\n",
              "      <td>C</td>\n",
              "      <td>PC</td>\n",
              "      <td>CAT17</td>\n",
              "      <td>-0.077982</td>\n",
              "      <td>-0.062534</td>\n",
              "    </tr>\n",
              "  </tbody>\n",
              "</table>\n",
              "</div>"
            ],
            "text/plain": [
              "  AISLE    IG     HTS PLANNING ABC UOM    CAT     COSTX    QTYVAR\n",
              "0    17  IG56  HTS119      1/1   B  PC  CAT17 -0.029976 -0.053250\n",
              "1    17  IG56  HTS119      1/1   B  PC  CAT17  0.092472 -0.022999\n",
              "2    17  IG56  HTS119      1/1   C  PC  CAT17  0.266130  0.004373\n",
              "3    17  IG56  HTS119      1/1   B  PC  CAT17 -0.025112 -0.060323\n",
              "4    15  IG56  HTS119      1/1   C  PC  CAT17 -0.077982 -0.062534"
            ]
          },
          "metadata": {
            "tags": []
          },
          "execution_count": 7
        }
      ]
    },
    {
      "cell_type": "code",
      "metadata": {
        "id": "azpWwpTtItYk",
        "colab": {
          "base_uri": "https://localhost:8080/"
        },
        "outputId": "feae4c4a-40dd-4c83-a25e-39822a785948"
      },
      "source": [
        "# Posición de las variables categóricas\n",
        "catColumnsPos = [dfNoSupervisado1.columns.get_loc(col) for col in list(dfNoSupervisado1.select_dtypes('object').columns)]\n",
        "print('Categorical columns : {}'.format(list(dfNoSupervisado1.select_dtypes('object').columns)))\n",
        "print('Categorical columns position : {}'.format(catColumnsPos))"
      ],
      "execution_count": null,
      "outputs": [
        {
          "output_type": "stream",
          "text": [
            "Categorical columns : ['AISLE', 'IG', 'HTS', 'PLANNING', 'ABC', 'UOM', 'CAT']\n",
            "Categorical columns position : [0, 1, 2, 3, 4, 5, 6]\n"
          ],
          "name": "stdout"
        }
      ]
    },
    {
      "cell_type": "code",
      "metadata": {
        "id": "voN3lVyIItYl",
        "colab": {
          "base_uri": "https://localhost:8080/"
        },
        "outputId": "752a581c-37bc-4f1c-b479-6312a9729836"
      },
      "source": [
        "# Posición de las variables numéricas]\n",
        "numColumnsPos = [dfNoSupervisado1.columns.get_loc(col) for col in list(dfNoSupervisado1.select_dtypes('float64').columns)]\n",
        "print('Numerical columns : {}'.format(list(dfNoSupervisado1.select_dtypes('float64').columns)))\n",
        "print('Numerical columns position : {}'.format(numColumnsPos))"
      ],
      "execution_count": null,
      "outputs": [
        {
          "output_type": "stream",
          "text": [
            "Numerical columns : ['COSTX', 'QTYVAR']\n",
            "Numerical columns position : [7, 8]\n"
          ],
          "name": "stdout"
        }
      ]
    },
    {
      "cell_type": "code",
      "metadata": {
        "id": "hdSXCDmRItYn"
      },
      "source": [
        "import numba as nb"
      ],
      "execution_count": null,
      "outputs": []
    },
    {
      "cell_type": "code",
      "metadata": {
        "id": "2D-mnliMItYn",
        "colab": {
          "base_uri": "https://localhost:8080/"
        },
        "outputId": "a8a23c20-f7f3-4263-8d27-2dcd00371956"
      },
      "source": [
        "dfNoSupervisado1.reset_index(drop=True)\n",
        "N = dfNoSupervisado1.shape[0]\n",
        "\n",
        "dataNum= dfNoSupervisado1.iloc[:,numColumnsPos]\n",
        "dataNum=dataNum.to_numpy()\n",
        "print('Datos numéricos',type(dataNum))\n",
        "\n",
        "dataCat=dfNoSupervisado1.iloc[:,catColumnsPos]\n",
        "dataCat=dataCat.to_numpy()\n",
        "print('Datos categóricos',type(dataCat))\n",
        "\n",
        "# gamma = 0.5 (constante)\n",
        "catWeight=0.5\n",
        "\n",
        "start_time = time.time()"
      ],
      "execution_count": null,
      "outputs": [
        {
          "output_type": "stream",
          "text": [
            "Datos numéricos <class 'numpy.ndarray'>\n",
            "Datos categóricos <class 'numpy.ndarray'>\n"
          ],
          "name": "stdout"
        }
      ]
    },
    {
      "cell_type": "code",
      "metadata": {
        "id": "n-aTVuIoItYo"
      },
      "source": [
        "@nb.njit\n",
        "def dist_num_njit(data):\n",
        "    scores = np.zeros((len(data),len(data)), dtype=np.float64)\n",
        "    valor = nb.float64(0)\n",
        "\n",
        "    for i in range(len(data)):\n",
        "        for j in range(i+1, len(data)):\n",
        "            valor = nb.float64(np.sum((data[i] - data[j]) ** 2))\n",
        "            scores[i][j] = valor\n",
        "    return scores"
      ],
      "execution_count": null,
      "outputs": []
    },
    {
      "cell_type": "code",
      "metadata": {
        "id": "GQmshn5MItYo"
      },
      "source": [
        "def dist_cat(data, catWeight):\n",
        "    scores = np.zeros((len(data),len(data)), dtype=np.float64)\n",
        "    for i in range(len(data)):\n",
        "        for j in range(i+1, len(data)):\n",
        "            scores[i][j] = np.float64(np.sum(data[i]!=data[j])*catWeight)\n",
        "    return scores"
      ],
      "execution_count": null,
      "outputs": []
    },
    {
      "cell_type": "code",
      "metadata": {
        "id": "fvFgKY4-ItYp"
      },
      "source": [
        "@nb.njit\n",
        "def traspose_njit (data):\n",
        "    scores = data\n",
        "    for i in range(len(data)):\n",
        "        for j in range(1+i,len(data)):\n",
        "            scores[j][i] = scores[i][j]\n",
        "    return scores            "
      ],
      "execution_count": null,
      "outputs": []
    },
    {
      "cell_type": "code",
      "metadata": {
        "id": "voMvW592ItYp"
      },
      "source": [
        "def get_scores(data,catWeight):\n",
        "    %time dist_num_np = dist_num_njit(dataNum[range(i)])\n",
        "    %time dist_cat_np = dist_cat(dataCat[range(i)], catWeight)\n",
        "    %time total = np.sum([dist_cat_np, dist_num_np], axis=0)\n",
        "    %time total = traspose_njit(total)"
      ],
      "execution_count": null,
      "outputs": []
    },
    {
      "cell_type": "code",
      "metadata": {
        "id": "rJ8K8snOItYp",
        "colab": {
          "base_uri": "https://localhost:8080/"
        },
        "outputId": "d20ed62e-6151-41ec-80e7-a4d6087e55dd"
      },
      "source": [
        "filename='NoCheck'\n",
        "if not Path('{}/{}'.format(sourcepath,filename)).is_file():\n",
        "    start_time = time.time()\n",
        "    for i in [10, dataNum.shape[0]]:\n",
        "        print('Número de filas a procesar: {}'.format(i))\n",
        "        %time dist_num_np = dist_num_njit(dataNum[range(i)])\n",
        "        %time dist_cat_np = dist_cat(dataCat[range(i)], catWeight)\n",
        "        %time total = np.sum([dist_cat_np, dist_num_np], axis=0)\n",
        "        %time total = traspose_njit(total)\n",
        "        print()\n",
        "#    %time np.savetxt('{}/{}'.format(sourcepath,filename),total, delimiter=',')  \n",
        "    print('Tiempo total = {}'.format(time.time() - start_time))\n",
        "else: \n",
        "    print('El archivo {} ya existe'.format(filename))"
      ],
      "execution_count": null,
      "outputs": [
        {
          "output_type": "stream",
          "text": [
            "Número de filas a procesar: 10\n",
            "CPU times: user 671 ms, sys: 23.5 ms, total: 694 ms\n",
            "Wall time: 737 ms\n",
            "CPU times: user 606 µs, sys: 0 ns, total: 606 µs\n",
            "Wall time: 610 µs\n",
            "CPU times: user 40 µs, sys: 7 µs, total: 47 µs\n",
            "Wall time: 50.5 µs\n",
            "CPU times: user 125 ms, sys: 3.01 ms, total: 128 ms\n",
            "Wall time: 127 ms\n",
            "\n",
            "Número de filas a procesar: 16239\n",
            "CPU times: user 10.1 s, sys: 546 ms, total: 10.6 s\n",
            "Wall time: 10.5 s\n",
            "CPU times: user 23min 9s, sys: 3.04 s, total: 23min 12s\n",
            "Wall time: 23min 13s\n",
            "CPU times: user 865 ms, sys: 928 ms, total: 1.79 s\n",
            "Wall time: 1.78 s\n",
            "CPU times: user 488 ms, sys: 1.01 ms, total: 489 ms\n",
            "Wall time: 485 ms\n",
            "\n",
            "Tiempo total = 1407.342961549759\n"
          ],
          "name": "stdout"
        }
      ]
    },
    {
      "cell_type": "code",
      "metadata": {
        "id": "KL8JkTq_ItYq"
      },
      "source": [
        "if len(total)>0:\n",
        "    scores = pd.DataFrame(total)\n",
        "else: \n",
        "    %time scores = pd.read_csv('{}/{}'.format(sourcepath,filename),header=None)"
      ],
      "execution_count": null,
      "outputs": []
    },
    {
      "cell_type": "code",
      "metadata": {
        "id": "HjnT020PItYq",
        "colab": {
          "base_uri": "https://localhost:8080/",
          "height": 251
        },
        "outputId": "9207fef3-191f-479e-f983-0e631242f356"
      },
      "source": [
        "scores.head()"
      ],
      "execution_count": null,
      "outputs": [
        {
          "output_type": "execute_result",
          "data": {
            "text/html": [
              "<div>\n",
              "<style scoped>\n",
              "    .dataframe tbody tr th:only-of-type {\n",
              "        vertical-align: middle;\n",
              "    }\n",
              "\n",
              "    .dataframe tbody tr th {\n",
              "        vertical-align: top;\n",
              "    }\n",
              "\n",
              "    .dataframe thead th {\n",
              "        text-align: right;\n",
              "    }\n",
              "</style>\n",
              "<table border=\"1\" class=\"dataframe\">\n",
              "  <thead>\n",
              "    <tr style=\"text-align: right;\">\n",
              "      <th></th>\n",
              "      <th>0</th>\n",
              "      <th>1</th>\n",
              "      <th>2</th>\n",
              "      <th>3</th>\n",
              "      <th>4</th>\n",
              "      <th>5</th>\n",
              "      <th>6</th>\n",
              "      <th>7</th>\n",
              "      <th>8</th>\n",
              "      <th>9</th>\n",
              "      <th>10</th>\n",
              "      <th>11</th>\n",
              "      <th>12</th>\n",
              "      <th>13</th>\n",
              "      <th>14</th>\n",
              "      <th>15</th>\n",
              "      <th>16</th>\n",
              "      <th>17</th>\n",
              "      <th>18</th>\n",
              "      <th>19</th>\n",
              "      <th>20</th>\n",
              "      <th>21</th>\n",
              "      <th>22</th>\n",
              "      <th>23</th>\n",
              "      <th>24</th>\n",
              "      <th>25</th>\n",
              "      <th>26</th>\n",
              "      <th>27</th>\n",
              "      <th>28</th>\n",
              "      <th>29</th>\n",
              "      <th>30</th>\n",
              "      <th>31</th>\n",
              "      <th>32</th>\n",
              "      <th>33</th>\n",
              "      <th>34</th>\n",
              "      <th>35</th>\n",
              "      <th>36</th>\n",
              "      <th>37</th>\n",
              "      <th>38</th>\n",
              "      <th>39</th>\n",
              "      <th>...</th>\n",
              "      <th>16199</th>\n",
              "      <th>16200</th>\n",
              "      <th>16201</th>\n",
              "      <th>16202</th>\n",
              "      <th>16203</th>\n",
              "      <th>16204</th>\n",
              "      <th>16205</th>\n",
              "      <th>16206</th>\n",
              "      <th>16207</th>\n",
              "      <th>16208</th>\n",
              "      <th>16209</th>\n",
              "      <th>16210</th>\n",
              "      <th>16211</th>\n",
              "      <th>16212</th>\n",
              "      <th>16213</th>\n",
              "      <th>16214</th>\n",
              "      <th>16215</th>\n",
              "      <th>16216</th>\n",
              "      <th>16217</th>\n",
              "      <th>16218</th>\n",
              "      <th>16219</th>\n",
              "      <th>16220</th>\n",
              "      <th>16221</th>\n",
              "      <th>16222</th>\n",
              "      <th>16223</th>\n",
              "      <th>16224</th>\n",
              "      <th>16225</th>\n",
              "      <th>16226</th>\n",
              "      <th>16227</th>\n",
              "      <th>16228</th>\n",
              "      <th>16229</th>\n",
              "      <th>16230</th>\n",
              "      <th>16231</th>\n",
              "      <th>16232</th>\n",
              "      <th>16233</th>\n",
              "      <th>16234</th>\n",
              "      <th>16235</th>\n",
              "      <th>16236</th>\n",
              "      <th>16237</th>\n",
              "      <th>16238</th>\n",
              "    </tr>\n",
              "  </thead>\n",
              "  <tbody>\n",
              "    <tr>\n",
              "      <th>0</th>\n",
              "      <td>0.000000</td>\n",
              "      <td>0.015909</td>\n",
              "      <td>0.590999</td>\n",
              "      <td>0.000074</td>\n",
              "      <td>1.002391</td>\n",
              "      <td>6.905057</td>\n",
              "      <td>0.537396</td>\n",
              "      <td>3.454530</td>\n",
              "      <td>0.554036</td>\n",
              "      <td>1.052643</td>\n",
              "      <td>0.521256</td>\n",
              "      <td>1.402175</td>\n",
              "      <td>0.788972</td>\n",
              "      <td>1.031443</td>\n",
              "      <td>1.548342</td>\n",
              "      <td>1.048480</td>\n",
              "      <td>0.507797</td>\n",
              "      <td>0.537579</td>\n",
              "      <td>0.629915</td>\n",
              "      <td>1.571143</td>\n",
              "      <td>1.777978</td>\n",
              "      <td>1.711546</td>\n",
              "      <td>1.673387</td>\n",
              "      <td>1.297619</td>\n",
              "      <td>1.013519</td>\n",
              "      <td>1.558377</td>\n",
              "      <td>1.732547</td>\n",
              "      <td>1.775931</td>\n",
              "      <td>3.789422</td>\n",
              "      <td>0.500178</td>\n",
              "      <td>0.509484</td>\n",
              "      <td>1.500131</td>\n",
              "      <td>1.827609</td>\n",
              "      <td>1.502426</td>\n",
              "      <td>1.591204</td>\n",
              "      <td>1.591204</td>\n",
              "      <td>1.547748</td>\n",
              "      <td>1.501811</td>\n",
              "      <td>1.003705</td>\n",
              "      <td>1.543587</td>\n",
              "      <td>...</td>\n",
              "      <td>71.149596</td>\n",
              "      <td>69.140699</td>\n",
              "      <td>2.526530</td>\n",
              "      <td>8.233137</td>\n",
              "      <td>3.028901</td>\n",
              "      <td>3.549070</td>\n",
              "      <td>3.382444</td>\n",
              "      <td>3.031015</td>\n",
              "      <td>3.575530</td>\n",
              "      <td>4.785368</td>\n",
              "      <td>3.523270</td>\n",
              "      <td>3.566278</td>\n",
              "      <td>3.005251</td>\n",
              "      <td>3.160110</td>\n",
              "      <td>3.541072</td>\n",
              "      <td>3.788772</td>\n",
              "      <td>3.163897</td>\n",
              "      <td>3.694636</td>\n",
              "      <td>3.036075</td>\n",
              "      <td>3.627204</td>\n",
              "      <td>3.558011</td>\n",
              "      <td>3.043105</td>\n",
              "      <td>3.530455</td>\n",
              "      <td>3.013229</td>\n",
              "      <td>4.430194</td>\n",
              "      <td>3.156645</td>\n",
              "      <td>3.051887</td>\n",
              "      <td>3.293430</td>\n",
              "      <td>3.067805</td>\n",
              "      <td>3.560219</td>\n",
              "      <td>3.520512</td>\n",
              "      <td>3.679007</td>\n",
              "      <td>3.503599</td>\n",
              "      <td>3.535936</td>\n",
              "      <td>3.511853</td>\n",
              "      <td>3.529040</td>\n",
              "      <td>3.550161</td>\n",
              "      <td>4.753847</td>\n",
              "      <td>3.558992</td>\n",
              "      <td>3.502744</td>\n",
              "    </tr>\n",
              "    <tr>\n",
              "      <th>1</th>\n",
              "      <td>0.015909</td>\n",
              "      <td>0.000000</td>\n",
              "      <td>0.530906</td>\n",
              "      <td>0.015219</td>\n",
              "      <td>1.030617</td>\n",
              "      <td>6.413580</td>\n",
              "      <td>0.601533</td>\n",
              "      <td>3.897025</td>\n",
              "      <td>0.511671</td>\n",
              "      <td>1.011468</td>\n",
              "      <td>0.500741</td>\n",
              "      <td>1.655674</td>\n",
              "      <td>0.938716</td>\n",
              "      <td>1.091377</td>\n",
              "      <td>1.750157</td>\n",
              "      <td>1.010066</td>\n",
              "      <td>0.545847</td>\n",
              "      <td>0.599588</td>\n",
              "      <td>0.555884</td>\n",
              "      <td>1.520323</td>\n",
              "      <td>1.661176</td>\n",
              "      <td>1.843475</td>\n",
              "      <td>1.794321</td>\n",
              "      <td>1.451005</td>\n",
              "      <td>1.000427</td>\n",
              "      <td>1.514552</td>\n",
              "      <td>1.870080</td>\n",
              "      <td>1.924255</td>\n",
              "      <td>4.219962</td>\n",
              "      <td>0.512925</td>\n",
              "      <td>0.501274</td>\n",
              "      <td>1.518906</td>\n",
              "      <td>1.987657</td>\n",
              "      <td>1.506259</td>\n",
              "      <td>1.532057</td>\n",
              "      <td>1.532057</td>\n",
              "      <td>1.616819</td>\n",
              "      <td>1.507244</td>\n",
              "      <td>1.034872</td>\n",
              "      <td>1.507027</td>\n",
              "      <td>...</td>\n",
              "      <td>69.137203</td>\n",
              "      <td>71.154557</td>\n",
              "      <td>2.583206</td>\n",
              "      <td>8.841295</td>\n",
              "      <td>3.086395</td>\n",
              "      <td>3.382861</td>\n",
              "      <td>3.550158</td>\n",
              "      <td>3.090307</td>\n",
              "      <td>3.523565</td>\n",
              "      <td>4.518196</td>\n",
              "      <td>3.572350</td>\n",
              "      <td>3.518663</td>\n",
              "      <td>3.036693</td>\n",
              "      <td>3.075171</td>\n",
              "      <td>3.508878</td>\n",
              "      <td>3.669190</td>\n",
              "      <td>3.077758</td>\n",
              "      <td>3.501501</td>\n",
              "      <td>3.096929</td>\n",
              "      <td>3.553419</td>\n",
              "      <td>3.633261</td>\n",
              "      <td>3.009461</td>\n",
              "      <td>3.503156</td>\n",
              "      <td>3.057776</td>\n",
              "      <td>4.204718</td>\n",
              "      <td>3.072818</td>\n",
              "      <td>3.010340</td>\n",
              "      <td>3.173947</td>\n",
              "      <td>3.019389</td>\n",
              "      <td>3.515903</td>\n",
              "      <td>3.566293</td>\n",
              "      <td>3.801636</td>\n",
              "      <td>3.530032</td>\n",
              "      <td>3.507656</td>\n",
              "      <td>3.539622</td>\n",
              "      <td>3.506775</td>\n",
              "      <td>3.511825</td>\n",
              "      <td>4.488869</td>\n",
              "      <td>3.634796</td>\n",
              "      <td>3.519995</td>\n",
              "    </tr>\n",
              "    <tr>\n",
              "      <th>2</th>\n",
              "      <td>0.590999</td>\n",
              "      <td>0.530906</td>\n",
              "      <td>0.000000</td>\n",
              "      <td>0.589008</td>\n",
              "      <td>0.622889</td>\n",
              "      <td>6.330393</td>\n",
              "      <td>1.244474</td>\n",
              "      <td>5.073795</td>\n",
              "      <td>1.005056</td>\n",
              "      <td>1.006146</td>\n",
              "      <td>0.524641</td>\n",
              "      <td>2.064407</td>\n",
              "      <td>1.702272</td>\n",
              "      <td>1.228551</td>\n",
              "      <td>2.085592</td>\n",
              "      <td>1.008335</td>\n",
              "      <td>1.151976</td>\n",
              "      <td>1.236748</td>\n",
              "      <td>1.004483</td>\n",
              "      <td>1.001716</td>\n",
              "      <td>1.050925</td>\n",
              "      <td>1.579796</td>\n",
              "      <td>1.515049</td>\n",
              "      <td>1.217755</td>\n",
              "      <td>0.534720</td>\n",
              "      <td>1.005243</td>\n",
              "      <td>1.614350</td>\n",
              "      <td>1.683827</td>\n",
              "      <td>5.379777</td>\n",
              "      <td>1.083488</td>\n",
              "      <td>1.042314</td>\n",
              "      <td>1.597940</td>\n",
              "      <td>2.263920</td>\n",
              "      <td>1.564230</td>\n",
              "      <td>1.501358</td>\n",
              "      <td>1.501358</td>\n",
              "      <td>1.763993</td>\n",
              "      <td>1.067506</td>\n",
              "      <td>1.631356</td>\n",
              "      <td>1.008711</td>\n",
              "      <td>...</td>\n",
              "      <td>66.339220</td>\n",
              "      <td>74.059854</td>\n",
              "      <td>3.215521</td>\n",
              "      <td>10.253008</td>\n",
              "      <td>3.220486</td>\n",
              "      <td>3.200015</td>\n",
              "      <td>3.840355</td>\n",
              "      <td>3.226787</td>\n",
              "      <td>3.002711</td>\n",
              "      <td>3.695308</td>\n",
              "      <td>3.191173</td>\n",
              "      <td>3.007154</td>\n",
              "      <td>3.632200</td>\n",
              "      <td>3.510729</td>\n",
              "      <td>3.519239</td>\n",
              "      <td>3.055616</td>\n",
              "      <td>3.511614</td>\n",
              "      <td>3.783614</td>\n",
              "      <td>3.732451</td>\n",
              "      <td>3.004794</td>\n",
              "      <td>3.289200</td>\n",
              "      <td>3.517765</td>\n",
              "      <td>3.017236</td>\n",
              "      <td>3.673192</td>\n",
              "      <td>3.940965</td>\n",
              "      <td>2.509951</td>\n",
              "      <td>2.505735</td>\n",
              "      <td>2.558812</td>\n",
              "      <td>3.006743</td>\n",
              "      <td>3.009073</td>\n",
              "      <td>3.180437</td>\n",
              "      <td>3.524768</td>\n",
              "      <td>3.118436</td>\n",
              "      <td>3.023569</td>\n",
              "      <td>3.128222</td>\n",
              "      <td>3.031217</td>\n",
              "      <td>3.013476</td>\n",
              "      <td>3.670329</td>\n",
              "      <td>3.291519</td>\n",
              "      <td>3.095380</td>\n",
              "    </tr>\n",
              "    <tr>\n",
              "      <th>3</th>\n",
              "      <td>0.000074</td>\n",
              "      <td>0.015219</td>\n",
              "      <td>0.589008</td>\n",
              "      <td>0.000000</td>\n",
              "      <td>1.002800</td>\n",
              "      <td>6.917638</td>\n",
              "      <td>0.539093</td>\n",
              "      <td>3.469785</td>\n",
              "      <td>0.552296</td>\n",
              "      <td>1.050738</td>\n",
              "      <td>0.520132</td>\n",
              "      <td>1.409923</td>\n",
              "      <td>0.793647</td>\n",
              "      <td>1.033077</td>\n",
              "      <td>1.554036</td>\n",
              "      <td>1.046513</td>\n",
              "      <td>0.508556</td>\n",
              "      <td>0.537720</td>\n",
              "      <td>0.626981</td>\n",
              "      <td>1.569067</td>\n",
              "      <td>1.774310</td>\n",
              "      <td>1.714464</td>\n",
              "      <td>1.675868</td>\n",
              "      <td>1.301390</td>\n",
              "      <td>1.012618</td>\n",
              "      <td>1.556247</td>\n",
              "      <td>1.735688</td>\n",
              "      <td>1.779500</td>\n",
              "      <td>3.804201</td>\n",
              "      <td>0.500103</td>\n",
              "      <td>0.508682</td>\n",
              "      <td>1.500254</td>\n",
              "      <td>1.831679</td>\n",
              "      <td>1.502024</td>\n",
              "      <td>1.588646</td>\n",
              "      <td>1.588646</td>\n",
              "      <td>1.548169</td>\n",
              "      <td>1.501484</td>\n",
              "      <td>1.004253</td>\n",
              "      <td>1.542113</td>\n",
              "      <td>...</td>\n",
              "      <td>71.070959</td>\n",
              "      <td>69.218374</td>\n",
              "      <td>2.527909</td>\n",
              "      <td>8.254973</td>\n",
              "      <td>3.030639</td>\n",
              "      <td>3.542093</td>\n",
              "      <td>3.388449</td>\n",
              "      <td>3.032739</td>\n",
              "      <td>3.573076</td>\n",
              "      <td>4.776056</td>\n",
              "      <td>3.522897</td>\n",
              "      <td>3.565688</td>\n",
              "      <td>3.005084</td>\n",
              "      <td>3.158037</td>\n",
              "      <td>3.541094</td>\n",
              "      <td>3.785323</td>\n",
              "      <td>3.161777</td>\n",
              "      <td>3.688266</td>\n",
              "      <td>3.036169</td>\n",
              "      <td>3.625575</td>\n",
              "      <td>3.558678</td>\n",
              "      <td>3.043070</td>\n",
              "      <td>3.528955</td>\n",
              "      <td>3.014287</td>\n",
              "      <td>4.422539</td>\n",
              "      <td>3.154617</td>\n",
              "      <td>3.050632</td>\n",
              "      <td>3.289079</td>\n",
              "      <td>3.067183</td>\n",
              "      <td>3.559760</td>\n",
              "      <td>3.520008</td>\n",
              "      <td>3.681556</td>\n",
              "      <td>3.503233</td>\n",
              "      <td>3.536114</td>\n",
              "      <td>3.510634</td>\n",
              "      <td>3.529457</td>\n",
              "      <td>3.549940</td>\n",
              "      <td>4.745281</td>\n",
              "      <td>3.559681</td>\n",
              "      <td>3.502012</td>\n",
              "    </tr>\n",
              "    <tr>\n",
              "      <th>4</th>\n",
              "      <td>1.002391</td>\n",
              "      <td>1.030617</td>\n",
              "      <td>0.622889</td>\n",
              "      <td>1.002800</td>\n",
              "      <td>0.000000</td>\n",
              "      <td>7.596201</td>\n",
              "      <td>1.020970</td>\n",
              "      <td>3.790229</td>\n",
              "      <td>1.079117</td>\n",
              "      <td>1.077322</td>\n",
              "      <td>1.037849</td>\n",
              "      <td>1.811969</td>\n",
              "      <td>1.239116</td>\n",
              "      <td>1.016632</td>\n",
              "      <td>1.478398</td>\n",
              "      <td>1.072131</td>\n",
              "      <td>1.001567</td>\n",
              "      <td>1.022445</td>\n",
              "      <td>1.167390</td>\n",
              "      <td>1.099539</td>\n",
              "      <td>1.331922</td>\n",
              "      <td>1.169000</td>\n",
              "      <td>1.135152</td>\n",
              "      <td>1.246662</td>\n",
              "      <td>1.027224</td>\n",
              "      <td>1.084134</td>\n",
              "      <td>1.187804</td>\n",
              "      <td>1.226958</td>\n",
              "      <td>4.129807</td>\n",
              "      <td>1.503815</td>\n",
              "      <td>1.521305</td>\n",
              "      <td>1.501418</td>\n",
              "      <td>1.774030</td>\n",
              "      <td>1.509550</td>\n",
              "      <td>1.122911</td>\n",
              "      <td>1.622911</td>\n",
              "      <td>1.529846</td>\n",
              "      <td>1.008304</td>\n",
              "      <td>1.500154</td>\n",
              "      <td>1.066381</td>\n",
              "      <td>...</td>\n",
              "      <td>71.946592</td>\n",
              "      <td>68.360355</td>\n",
              "      <td>3.013036</td>\n",
              "      <td>8.503889</td>\n",
              "      <td>3.014984</td>\n",
              "      <td>3.622801</td>\n",
              "      <td>3.325352</td>\n",
              "      <td>3.016421</td>\n",
              "      <td>3.104478</td>\n",
              "      <td>4.398160</td>\n",
              "      <td>3.013206</td>\n",
              "      <td>3.092994</td>\n",
              "      <td>3.501820</td>\n",
              "      <td>3.701459</td>\n",
              "      <td>3.561742</td>\n",
              "      <td>3.343702</td>\n",
              "      <td>3.705716</td>\n",
              "      <td>4.278403</td>\n",
              "      <td>3.521394</td>\n",
              "      <td>3.164180</td>\n",
              "      <td>3.037686</td>\n",
              "      <td>3.564344</td>\n",
              "      <td>3.049741</td>\n",
              "      <td>3.504441</td>\n",
              "      <td>4.526639</td>\n",
              "      <td>2.697558</td>\n",
              "      <td>2.576506</td>\n",
              "      <td>2.848604</td>\n",
              "      <td>3.094835</td>\n",
              "      <td>3.085642</td>\n",
              "      <td>3.011741</td>\n",
              "      <td>3.140107</td>\n",
              "      <td>3.002131</td>\n",
              "      <td>3.055072</td>\n",
              "      <td>3.010143</td>\n",
              "      <td>3.045818</td>\n",
              "      <td>3.073240</td>\n",
              "      <td>4.365574</td>\n",
              "      <td>3.038450</td>\n",
              "      <td>3.004875</td>\n",
              "    </tr>\n",
              "  </tbody>\n",
              "</table>\n",
              "<p>5 rows × 16239 columns</p>\n",
              "</div>"
            ],
            "text/plain": [
              "      0         1         2      ...     16236     16237     16238\n",
              "0  0.000000  0.015909  0.590999  ...  4.753847  3.558992  3.502744\n",
              "1  0.015909  0.000000  0.530906  ...  4.488869  3.634796  3.519995\n",
              "2  0.590999  0.530906  0.000000  ...  3.670329  3.291519  3.095380\n",
              "3  0.000074  0.015219  0.589008  ...  4.745281  3.559681  3.502012\n",
              "4  1.002391  1.030617  0.622889  ...  4.365574  3.038450  3.004875\n",
              "\n",
              "[5 rows x 16239 columns]"
            ]
          },
          "metadata": {
            "tags": []
          },
          "execution_count": 30
        }
      ]
    },
    {
      "cell_type": "code",
      "metadata": {
        "id": "a8xesIvLItYr",
        "colab": {
          "base_uri": "https://localhost:8080/"
        },
        "outputId": "d6074748-5945-4fdf-b579-41aceaf9c6c3"
      },
      "source": [
        "cost = []\n",
        "silueta = []\n",
        "start_time = time.time()\n",
        "\n",
        "for k in (range(1,11)):\n",
        "# try:\n",
        "    kprototype = KPrototypes(n_jobs = -1, n_clusters = k, init = 'Huang', gamma = 0.5, random_state = 0)\n",
        "    kprototype.fit_predict(dfNoSupervisado1, categorical = catColumnsPos)\n",
        "    cost.append(kprototype.cost_)\n",
        "    print('k: {}'.format(k))\n",
        "    print(\"--- %s seconds ---\" % (time.time() - start_time))\n",
        "    if k != 1:\n",
        "        silhouette_coeff = silhouette_score(scores, kprototype.labels_, metric='precomputed')\n",
        "        silueta.append(silhouette_coeff)\n",
        "        print(\"Coeficiente silueta --- %s seconds ---\" % (time.time() - start_time))\n",
        "        print(silhouette_coeff)\n",
        "    # except:\n",
        "    #     break"
      ],
      "execution_count": null,
      "outputs": [
        {
          "output_type": "stream",
          "text": [
            "k: 1\n",
            "--- 20.487010717391968 seconds ---\n",
            "k: 2\n",
            "--- 124.03669500350952 seconds ---\n",
            "Coeficiente silueta --- 125.73675441741943 seconds ---\n",
            "0.7368588147337156\n",
            "k: 3\n",
            "--- 240.59661388397217 seconds ---\n",
            "Coeficiente silueta --- 242.2838044166565 seconds ---\n",
            "0.7182825853232915\n",
            "k: 4\n",
            "--- 355.78829431533813 seconds ---\n",
            "Coeficiente silueta --- 357.25487542152405 seconds ---\n",
            "0.10914930712265486\n",
            "k: 5\n",
            "--- 484.63542890548706 seconds ---\n",
            "Coeficiente silueta --- 486.1024286746979 seconds ---\n",
            "0.1391253039621705\n",
            "k: 6\n",
            "--- 618.6451871395111 seconds ---\n",
            "Coeficiente silueta --- 620.0591375827789 seconds ---\n",
            "0.16195435391945107\n",
            "k: 7\n",
            "--- 793.7495946884155 seconds ---\n",
            "Coeficiente silueta --- 795.1350929737091 seconds ---\n",
            "0.14642970918022294\n",
            "k: 8\n",
            "--- 972.8448345661163 seconds ---\n",
            "Coeficiente silueta --- 974.1871247291565 seconds ---\n",
            "0.15780128213560415\n",
            "k: 9\n",
            "--- 1161.3708102703094 seconds ---\n",
            "Coeficiente silueta --- 1162.691623210907 seconds ---\n",
            "0.1427476758851263\n",
            "k: 10\n",
            "--- 1385.0605652332306 seconds ---\n",
            "Coeficiente silueta --- 1386.376408815384 seconds ---\n",
            "0.16567644534445009\n"
          ],
          "name": "stdout"
        }
      ]
    },
    {
      "cell_type": "code",
      "metadata": {
        "id": "yAFSNG5JItYr",
        "colab": {
          "base_uri": "https://localhost:8080/"
        },
        "outputId": "614b82a3-d334-4d0a-962c-de1b41a6fbf5"
      },
      "source": [
        "silueta"
      ],
      "execution_count": null,
      "outputs": [
        {
          "output_type": "execute_result",
          "data": {
            "text/plain": [
              "[0.7368588147337156,\n",
              " 0.7182825853232915,\n",
              " 0.10914930712265486,\n",
              " 0.1391253039621705,\n",
              " 0.16195435391945107,\n",
              " 0.14642970918022294,\n",
              " 0.15780128213560415,\n",
              " 0.1427476758851263,\n",
              " 0.16567644534445009]"
            ]
          },
          "metadata": {
            "tags": []
          },
          "execution_count": 33
        }
      ]
    },
    {
      "cell_type": "code",
      "metadata": {
        "id": "9fBBEf-qItYs",
        "colab": {
          "base_uri": "https://localhost:8080/"
        },
        "outputId": "e027bce6-0082-4ef5-b8b0-3fb59cecbdac"
      },
      "source": [
        "df_cost = pd.DataFrame({'Cluster':range(1,11), 'Cost':cost})\n",
        "df_silueta = pd.DataFrame({'Cluster':range(2,11), 'Coeficiente':silueta})\n",
        "silueta"
      ],
      "execution_count": null,
      "outputs": [
        {
          "output_type": "execute_result",
          "data": {
            "text/plain": [
              "[0.7368588147337156,\n",
              " 0.7182825853232915,\n",
              " 0.10914930712265486,\n",
              " 0.1391253039621705,\n",
              " 0.16195435391945107,\n",
              " 0.14642970918022294,\n",
              " 0.15780128213560415,\n",
              " 0.1427476758851263,\n",
              " 0.16567644534445009]"
            ]
          },
          "metadata": {
            "tags": []
          },
          "execution_count": 34
        }
      ]
    },
    {
      "cell_type": "code",
      "metadata": {
        "id": "k-ukvQL1ItYs",
        "colab": {
          "base_uri": "https://localhost:8080/",
          "height": 503
        },
        "outputId": "cdbc545b-452d-4cd4-932c-7b0f48721cf8"
      },
      "source": [
        "# Codo\n",
        "plotnine.options.figure_size = (8, 4.8)\n",
        "(\n",
        "ggplot(data = df_cost)+\n",
        "geom_line(aes(x = 'Cluster',\n",
        "y = 'Cost'))+\n",
        "geom_point(aes(x = 'Cluster',\n",
        "y = 'Cost'))+\n",
        "geom_label(aes(x = 'Cluster',\n",
        "y = 'Cost',\n",
        "label = 'Cluster'),\n",
        "size = 10,\n",
        "nudge_y = 1000) +\n",
        "labs(title = 'Optimal number of cluster with Elbow Method')+\n",
        "xlab('Number of Clusters k')+\n",
        "ylab('Cost')+\n",
        "theme_minimal()\n",
        ")"
      ],
      "execution_count": null,
      "outputs": [
        {
          "output_type": "display_data",
          "data": {
            "image/png": "[encoded data removed]",
            "text/plain": [
              "<Figure size 800x480 with 1 Axes>"
            ]
          },
          "metadata": {
            "tags": [],
            "needs_background": "light"
          }
        },
        {
          "output_type": "execute_result",
          "data": {
            "text/plain": [
              "<ggplot: (8767344983637)>"
            ]
          },
          "metadata": {
            "tags": []
          },
          "execution_count": 35
        }
      ]
    },
    {
      "cell_type": "code",
      "metadata": {
        "id": "pK0d2uwtItYs",
        "colab": {
          "base_uri": "https://localhost:8080/",
          "height": 503
        },
        "outputId": "bdb10c0e-687f-4596-fc6b-7eef77092e18"
      },
      "source": [
        "# Coeficiente silueta\n",
        "plotnine.options.figure_size = (8, 4.8)\n",
        "(\n",
        "ggplot(data = df_silueta)+\n",
        "geom_line(aes(x = 'Cluster',\n",
        "y = 'Coeficiente'))+\n",
        "geom_point(aes(x = 'Cluster',\n",
        "y = 'Coeficiente'))+\n",
        "geom_label(aes(x = 'Cluster',\n",
        "y = 'Coeficiente',\n",
        "label = 'Cluster'),\n",
        "size = 10,\n",
        "nudge_y = 0.1) +\n",
        "labs(title = 'Optimal number of cluster with Silhouette coefficient')+\n",
        "xlab('Number of Clusters k')+\n",
        "ylab('Coeficiente')+\n",
        "theme_minimal()\n",
        ")"
      ],
      "execution_count": null,
      "outputs": [
        {
          "output_type": "display_data",
          "data": {
            "image/png": "[encoded data removed]",
            "text/plain": [
              "<Figure size 800x480 with 1 Axes>"
            ]
          },
          "metadata": {
            "tags": [],
            "needs_background": "light"
          }
        },
        {
          "output_type": "execute_result",
          "data": {
            "text/plain": [
              "<ggplot: (8767344949725)>"
            ]
          },
          "metadata": {
            "tags": []
          },
          "execution_count": 36
        }
      ]
    },
    {
      "cell_type": "code",
      "metadata": {
        "colab": {
          "base_uri": "https://localhost:8080/"
        },
        "id": "JU921AZGa36V",
        "outputId": "085457c5-de60-4d42-f1ad-181da301c993"
      },
      "source": [
        "# Fit the cluster \n",
        "k = 2\n",
        "gamma = 0.5\n",
        "import time\n",
        "start_time = time.time()\n",
        "kprototype = KPrototypes(n_jobs = -1, n_clusters = k, init = 'Huang', gamma = gamma, random_state = 0)\n",
        "kprototype.fit_predict(dfNoSupervisado1, categorical = catColumnsPos)\n",
        "print(\"--- %s seconds ---\" % (time.time() - start_time))"
      ],
      "execution_count": null,
      "outputs": [
        {
          "output_type": "stream",
          "text": [
            "--- 103.68883109092712 seconds ---\n"
          ],
          "name": "stdout"
        }
      ]
    },
    {
      "cell_type": "code",
      "metadata": {
        "id": "Z_Rp8asBcPMK"
      },
      "source": [
        "dfNoSupervisado1['Cluster'] = kprototype.labels_"
      ],
      "execution_count": null,
      "outputs": []
    },
    {
      "cell_type": "code",
      "metadata": {
        "colab": {
          "base_uri": "https://localhost:8080/",
          "height": 370
        },
        "id": "K4y-GPP0cWie",
        "outputId": "6f58c54d-fdf1-48af-d0a6-d659cffd8360"
      },
      "source": [
        "for i in range(k):\n",
        "  sns.distplot(dfNoSupervisado1.loc[dfNoSupervisado1['Cluster']==i,'COSTX'], label= 'Cluster {}'.format(i));\n",
        "  plt.legend(loc=(1.04,0))\n",
        "plt.show();"
      ],
      "execution_count": null,
      "outputs": [
        {
          "output_type": "stream",
          "text": [
            "/usr/local/lib/python3.7/dist-packages/seaborn/distributions.py:2557: FutureWarning: `distplot` is a deprecated function and will be removed in a future version. Please adapt your code to use either `displot` (a figure-level function with similar flexibility) or `histplot` (an axes-level function for histograms).\n",
            "  warnings.warn(msg, FutureWarning)\n",
            "/usr/local/lib/python3.7/dist-packages/seaborn/distributions.py:2557: FutureWarning: `distplot` is a deprecated function and will be removed in a future version. Please adapt your code to use either `displot` (a figure-level function with similar flexibility) or `histplot` (an axes-level function for histograms).\n",
            "  warnings.warn(msg, FutureWarning)\n"
          ],
          "name": "stderr"
        },
        {
          "output_type": "display_data",
          "data": {
            "image/png": "[encoded data removed]",
            "text/plain": [
              "<Figure size 432x288 with 1 Axes>"
            ]
          },
          "metadata": {
            "tags": [],
            "needs_background": "light"
          }
        }
      ]
    },
    {
      "cell_type": "code",
      "metadata": {
        "colab": {
          "base_uri": "https://localhost:8080/",
          "height": 632
        },
        "id": "JllzjNnqconJ",
        "outputId": "16ef2d68-814b-48d2-8e4b-762f6ef396ba"
      },
      "source": [
        "for i in range(k):\n",
        "    sns.distplot(dfNoSupervisado1.loc[dfNoSupervisado1['Cluster']==i,'QTYVAR'], label= 'Cluster {}'.format(i));\n",
        "    plt.legend(loc=(1.04,0))\n",
        "    plt.show()"
      ],
      "execution_count": null,
      "outputs": [
        {
          "output_type": "stream",
          "text": [
            "/usr/local/lib/python3.7/dist-packages/seaborn/distributions.py:2557: FutureWarning: `distplot` is a deprecated function and will be removed in a future version. Please adapt your code to use either `displot` (a figure-level function with similar flexibility) or `histplot` (an axes-level function for histograms).\n",
            "  warnings.warn(msg, FutureWarning)\n"
          ],
          "name": "stderr"
        },
        {
          "output_type": "display_data",
          "data": {
            "image/png": "[encoded data removed]",
            "text/plain": [
              "<Figure size 432x288 with 1 Axes>"
            ]
          },
          "metadata": {
            "tags": [],
            "needs_background": "light"
          }
        },
        {
          "output_type": "stream",
          "text": [
            "/usr/local/lib/python3.7/dist-packages/seaborn/distributions.py:2557: FutureWarning: `distplot` is a deprecated function and will be removed in a future version. Please adapt your code to use either `displot` (a figure-level function with similar flexibility) or `histplot` (an axes-level function for histograms).\n",
            "  warnings.warn(msg, FutureWarning)\n"
          ],
          "name": "stderr"
        },
        {
          "output_type": "display_data",
          "data": {
            "image/png": "[encoded data removed]",
            "text/plain": [
              "<Figure size 432x288 with 1 Axes>"
            ]
          },
          "metadata": {
            "tags": [],
            "needs_background": "light"
          }
        }
      ]
    }
  ]
}