{
  "nbformat": 4,
  "nbformat_minor": 0,
  "metadata": {
    "accelerator": "GPU",
    "colab": {
      "name": "kprototypes(version simple).ipynb",
      "provenance": [],
      "collapsed_sections": [],
      "machine_shape": "hm",
      "include_colab_link": true
    },
    "kernelspec": {
      "display_name": "Python 3",
      "language": "python",
      "name": "python3"
    },
    "language_info": {
      "codemirror_mode": {
        "name": "ipython",
        "version": 3
      },
      "file_extension": ".py",
      "mimetype": "text/x-python",
      "name": "python",
      "nbconvert_exporter": "python",
      "pygments_lexer": "ipython3",
      "version": "3.7.10"
    }
  },
  "cells": [
    {
      "cell_type": "markdown",
      "metadata": {
        "id": "view-in-github",
        "colab_type": "text"
      },
      "source": [
        "<a href=\"https://colab.research.google.com/github/FTPGitHub/TDG/blob/main/notebooks/kprototypes(version_simple).ipynb\" target=\"_parent\"><img src=\"https://colab.research.google.com/assets/colab-badge.svg\" alt=\"Open In Colab\"/></a>"
      ]
    },
    {
      "cell_type": "code",
      "metadata": {
        "colab": {
          "base_uri": "https://localhost:8080/"
        },
        "id": "YN9mcVDyItYX",
        "outputId": "489c0671-b996-4adb-c653-c21e22515594"
      },
      "source": [
        "!pip install kmodes"
      ],
      "execution_count": null,
      "outputs": [
        {
          "output_type": "stream",
          "text": [
            "Requirement already satisfied: kmodes in /usr/local/lib/python3.7/dist-packages (0.11.0)\n",
            "Requirement already satisfied: numpy>=1.10.4 in /usr/local/lib/python3.7/dist-packages (from kmodes) (1.19.5)\n",
            "Requirement already satisfied: scipy>=0.13.3 in /usr/local/lib/python3.7/dist-packages (from kmodes) (1.4.1)\n",
            "Requirement already satisfied: joblib>=0.11 in /usr/local/lib/python3.7/dist-packages (from kmodes) (1.0.1)\n",
            "Requirement already satisfied: scikit-learn>=0.22.0 in /usr/local/lib/python3.7/dist-packages (from kmodes) (0.22.2.post1)\n"
          ],
          "name": "stdout"
        }
      ]
    },
    {
      "cell_type": "code",
      "metadata": {
        "id": "MJ6I3touItYg"
      },
      "source": [
        "import pathlib\n",
        "import pandas as pd\n",
        "import numpy as np\n",
        "import seaborn as sns\n",
        "import plotnine\n",
        "import time\n",
        "\n",
        "from pathlib import Path\n",
        "from sklearn.metrics import silhouette_score\n",
        "from kmodes.kprototypes import KPrototypes\n",
        "from plotnine import *"
      ],
      "execution_count": 18,
      "outputs": []
    },
    {
      "cell_type": "code",
      "metadata": {
        "id": "-8PofkkBItYh"
      },
      "source": [
        "sourcepath = 'https://raw.githubusercontent.com/FTPGitHub/TDG/main/datos'"
      ],
      "execution_count": 20,
      "outputs": []
    },
    {
      "cell_type": "code",
      "metadata": {
        "id": "9luNzHhnItYi"
      },
      "source": [
        "# Lee dataset estandarizado de transacciones\n",
        "dfNoSupervisado1 = pd.read_csv(\"{}/transacciones.csv\".format(sourcepath))"
      ],
      "execution_count": 21,
      "outputs": []
    },
    {
      "cell_type": "code",
      "metadata": {
        "id": "Y3SIlGeiKDh1"
      },
      "source": [
        "dfNoSupervisado1.AISLE = dfNoSupervisado1.AISLE.astype(str)"
      ],
      "execution_count": 22,
      "outputs": []
    },
    {
      "cell_type": "code",
      "metadata": {
        "colab": {
          "base_uri": "https://localhost:8080/"
        },
        "id": "Ki-K6AD5ItYj",
        "outputId": "e99d1956-9a3b-4de7-a309-7d9992fd72df"
      },
      "source": [
        "dfNoSupervisado1.info()"
      ],
      "execution_count": 23,
      "outputs": [
        {
          "output_type": "stream",
          "text": [
            "<class 'pandas.core.frame.DataFrame'>\n",
            "RangeIndex: 16239 entries, 0 to 16238\n",
            "Data columns (total 9 columns):\n",
            " #   Column    Non-Null Count  Dtype  \n",
            "---  ------    --------------  -----  \n",
            " 0   AISLE     16239 non-null  object \n",
            " 1   IG        16239 non-null  object \n",
            " 2   HTS       16239 non-null  object \n",
            " 3   PLANNING  16239 non-null  object \n",
            " 4   ABC       16239 non-null  object \n",
            " 5   UOM       16239 non-null  object \n",
            " 6   CAT       16239 non-null  object \n",
            " 7   COSTX     16239 non-null  float64\n",
            " 8   QTYVAR    16239 non-null  float64\n",
            "dtypes: float64(2), object(7)\n",
            "memory usage: 1.1+ MB\n"
          ],
          "name": "stdout"
        }
      ]
    },
    {
      "cell_type": "code",
      "metadata": {
        "colab": {
          "base_uri": "https://localhost:8080/"
        },
        "id": "3Yw56hSJItYj",
        "outputId": "3f9d27bd-2dff-44e5-d525-ac99eb268b12"
      },
      "source": [
        "dfNoSupervisado1.head()"
      ],
      "execution_count": null,
      "outputs": [
        {
          "output_type": "execute_result",
          "data": {
            "text/html": [
              "<div>\n",
              "<style scoped>\n",
              "    .dataframe tbody tr th:only-of-type {\n",
              "        vertical-align: middle;\n",
              "    }\n",
              "\n",
              "    .dataframe tbody tr th {\n",
              "        vertical-align: top;\n",
              "    }\n",
              "\n",
              "    .dataframe thead th {\n",
              "        text-align: right;\n",
              "    }\n",
              "</style>\n",
              "<table border=\"1\" class=\"dataframe\">\n",
              "  <thead>\n",
              "    <tr style=\"text-align: right;\">\n",
              "      <th></th>\n",
              "      <th>AISLE</th>\n",
              "      <th>IG</th>\n",
              "      <th>HTS</th>\n",
              "      <th>PLANNING</th>\n",
              "      <th>ABC</th>\n",
              "      <th>UOM</th>\n",
              "      <th>CAT</th>\n",
              "      <th>COSTX</th>\n",
              "      <th>QTYVAR</th>\n",
              "    </tr>\n",
              "  </thead>\n",
              "  <tbody>\n",
              "    <tr>\n",
              "      <th>0</th>\n",
              "      <td>17</td>\n",
              "      <td>IG56</td>\n",
              "      <td>HTS119</td>\n",
              "      <td>1/1</td>\n",
              "      <td>B</td>\n",
              "      <td>PC</td>\n",
              "      <td>CAT17</td>\n",
              "      <td>-0.029976</td>\n",
              "      <td>-0.053250</td>\n",
              "    </tr>\n",
              "    <tr>\n",
              "      <th>1</th>\n",
              "      <td>17</td>\n",
              "      <td>IG56</td>\n",
              "      <td>HTS119</td>\n",
              "      <td>1/1</td>\n",
              "      <td>B</td>\n",
              "      <td>PC</td>\n",
              "      <td>CAT17</td>\n",
              "      <td>0.092472</td>\n",
              "      <td>-0.022999</td>\n",
              "    </tr>\n",
              "    <tr>\n",
              "      <th>2</th>\n",
              "      <td>17</td>\n",
              "      <td>IG56</td>\n",
              "      <td>HTS119</td>\n",
              "      <td>1/1</td>\n",
              "      <td>C</td>\n",
              "      <td>PC</td>\n",
              "      <td>CAT17</td>\n",
              "      <td>0.266130</td>\n",
              "      <td>0.004373</td>\n",
              "    </tr>\n",
              "    <tr>\n",
              "      <th>3</th>\n",
              "      <td>17</td>\n",
              "      <td>IG56</td>\n",
              "      <td>HTS119</td>\n",
              "      <td>1/1</td>\n",
              "      <td>B</td>\n",
              "      <td>PC</td>\n",
              "      <td>CAT17</td>\n",
              "      <td>-0.025112</td>\n",
              "      <td>-0.060323</td>\n",
              "    </tr>\n",
              "    <tr>\n",
              "      <th>4</th>\n",
              "      <td>15</td>\n",
              "      <td>IG56</td>\n",
              "      <td>HTS119</td>\n",
              "      <td>1/1</td>\n",
              "      <td>C</td>\n",
              "      <td>PC</td>\n",
              "      <td>CAT17</td>\n",
              "      <td>-0.077982</td>\n",
              "      <td>-0.062534</td>\n",
              "    </tr>\n",
              "  </tbody>\n",
              "</table>\n",
              "</div>"
            ],
            "text/plain": [
              "  AISLE    IG     HTS PLANNING ABC UOM    CAT     COSTX    QTYVAR\n",
              "0    17  IG56  HTS119      1/1   B  PC  CAT17 -0.029976 -0.053250\n",
              "1    17  IG56  HTS119      1/1   B  PC  CAT17  0.092472 -0.022999\n",
              "2    17  IG56  HTS119      1/1   C  PC  CAT17  0.266130  0.004373\n",
              "3    17  IG56  HTS119      1/1   B  PC  CAT17 -0.025112 -0.060323\n",
              "4    15  IG56  HTS119      1/1   C  PC  CAT17 -0.077982 -0.062534"
            ]
          },
          "metadata": {
            "tags": []
          },
          "execution_count": 7
        }
      ]
    },
    {
      "cell_type": "code",
      "metadata": {
        "colab": {
          "background_save": true,
          "base_uri": "https://localhost:8080/"
        },
        "id": "ZYVTT9FvtG7e",
        "outputId": "708ca9c7-ced2-4abf-d60e-e57d46135db3"
      },
      "source": [
        "dfNoSupervisado1 = dfNoSupervisado1.reset_index(drop=True)\n",
        "N = dfNoSupervisado1.shape[0]\n",
        "\n",
        "catColumnsPos = [dfNoSupervisado1.columns.get_loc(col) for col in list(dfNoSupervisado1.select_dtypes('object').columns)]\n",
        "numColumnsPos = [dfNoSupervisado1.columns.get_loc(col) for col in list(dfNoSupervisado1.select_dtypes('float64').columns)]\n",
        "\n",
        "dataNum=dfNoSupervisado1.iloc[:,numColumnsPos]\n",
        "dataNum=dataNum.to_numpy()\n",
        "print('Datos numéricos',type(dataNum))\n",
        "\n",
        "dataCat=dfNoSupervisado1.iloc[:,catColumnsPos]\n",
        "dataCat=dataCat.to_numpy()\n",
        "print('Datos categóricos',type(dataCat))\n",
        "\n",
        "# gamma = 0.5 (constante)\n",
        "catWeight=0.5\n",
        "\n",
        "# Inicializamos la matriz de distancias con ceros\n",
        "scores = [ [ 0 for i in range(N) ] for j in range(N) ]\n",
        "\n",
        "# Calculamos la mitad de la matriz distancias\n",
        "for i in range(N):\n",
        "  for j in range(i+1,N):\n",
        "    scores[i][j]=np.sum((dataNum[i] - dataNum[j]) ** 2) + catWeight * np.sum(dataCat[i]!=dataCat[j])\n",
        "\n",
        "# Completamos la matriz\n",
        "for i in range(0,N):\n",
        "  for j in range(0,i):\n",
        "    scores[i][j]=scores[j][i]"
      ],
      "execution_count": null,
      "outputs": [
        {
          "output_type": "stream",
          "text": [
            "Datos numéricos <class 'numpy.ndarray'>\n",
            "Datos categóricos <class 'numpy.ndarray'>\n",
            "Inicio --- 3.2901763916015625e-05 seconds ---\n"
          ],
          "name": "stdout"
        }
      ]
    },
    {
      "cell_type": "code",
      "metadata": {
        "id": "a8xesIvLItYr"
      },
      "source": [
        "cost = []\n",
        "silueta = []\n",
        "start_time = time.time()\n",
        "\n",
        "for k in (range(1,11)):\n",
        "# try:\n",
        "    kprototype = KPrototypes(n_jobs = -1, n_clusters = k, init = 'Huang', gamma = 0.5, random_state = 0)\n",
        "    kprototype.fit_predict(dfNoSupervisado1, categorical = catColumnsPos)\n",
        "    cost.append(kprototype.cost_)\n",
        "    print('k: {}'.format(k))\n",
        "    print(\"--- %s seconds ---\" % (time.time() - start_time))\n",
        "    if k != 1:\n",
        "        silhouette_coeff = silhouette_score(scores, kprototype.labels_, metric='precomputed')\n",
        "        silueta.append(silhouette_coeff)\n",
        "        print(\"Coeficiente silueta --- %s seconds ---\" % (time.time() - start_time))\n",
        "        print(silhouette_coeff)\n",
        "    # except:\n",
        "    #     break"
      ],
      "execution_count": null,
      "outputs": []
    },
    {
      "cell_type": "code",
      "metadata": {
        "id": "yAFSNG5JItYr"
      },
      "source": [
        "silueta"
      ],
      "execution_count": null,
      "outputs": []
    },
    {
      "cell_type": "code",
      "metadata": {
        "id": "9fBBEf-qItYs"
      },
      "source": [
        "df_cost = pd.DataFrame({'Cluster':range(1,11), 'Cost':cost})\n",
        "df_silueta = pd.DataFrame({'Cluster':range(2,11), 'Coeficiente':silueta})"
      ],
      "execution_count": null,
      "outputs": []
    },
    {
      "cell_type": "code",
      "metadata": {
        "id": "k-ukvQL1ItYs"
      },
      "source": [
        "# Codo\n",
        "plotnine.options.figure_size = (8, 4.8)\n",
        "(\n",
        "ggplot(data = df_cost)+\n",
        "geom_line(aes(x = 'Cluster',\n",
        "y = 'Cost'))+\n",
        "geom_point(aes(x = 'Cluster',\n",
        "y = 'Cost'))+\n",
        "geom_label(aes(x = 'Cluster',\n",
        "y = 'Cost',\n",
        "label = 'Cluster'),\n",
        "size = 10,\n",
        "nudge_y = 1000) +\n",
        "labs(title = 'Optimal number of cluster with Elbow Method')+\n",
        "xlab('Number of Clusters k')+\n",
        "ylab('Cost')+\n",
        "theme_minimal()\n",
        ")"
      ],
      "execution_count": null,
      "outputs": []
    },
    {
      "cell_type": "code",
      "metadata": {
        "id": "pK0d2uwtItYs"
      },
      "source": [
        "# Coeficiente silueta\n",
        "plotnine.options.figure_size = (8, 4.8)\n",
        "(\n",
        "ggplot(data = df_silueta)+\n",
        "geom_line(aes(x = 'Cluster',\n",
        "y = 'Coeficiente'))+\n",
        "geom_point(aes(x = 'Cluster',\n",
        "y = 'Coeficiente'))+\n",
        "geom_label(aes(x = 'Cluster',\n",
        "y = 'Coeficiente',\n",
        "label = 'Cluster'),\n",
        "size = 10,\n",
        "nudge_y = 0.1) +\n",
        "labs(title = 'Optimal number of cluster with Silhouette coefficient')+\n",
        "xlab('Number of Clusters k')+\n",
        "ylab('Coeficiente')+\n",
        "theme_minimal()\n",
        ")"
      ],
      "execution_count": null,
      "outputs": []
    },
    {
      "cell_type": "code",
      "metadata": {
        "id": "JU921AZGa36V"
      },
      "source": [
        "# Fit the cluster \n",
        "k = 2\n",
        "gamma = 0.5\n",
        "import time\n",
        "start_time = time.time()\n",
        "kprototype = KPrototypes(n_jobs = -1, n_clusters = k, init = 'Huang', gamma = gamma, random_state = 0)\n",
        "kprototype.fit_predict(dfNoSupervisado1, categorical = catColumnsPos)\n",
        "print(\"--- %s seconds ---\" % (time.time() - start_time))"
      ],
      "execution_count": null,
      "outputs": []
    },
    {
      "cell_type": "code",
      "metadata": {
        "id": "Z_Rp8asBcPMK"
      },
      "source": [
        "dfNoSupervisado1['Cluster'] = kprototype.labels_"
      ],
      "execution_count": null,
      "outputs": []
    },
    {
      "cell_type": "code",
      "metadata": {
        "id": "K4y-GPP0cWie"
      },
      "source": [
        "import matplotlib.pylab as plt\n",
        "for var in ['COSTX','QTYVAR']:\n",
        "    for i in range(k):\n",
        "        sns.distplot(dfNoSupervisado1.loc[dfNoSupervisado1['Cluster']==i,var], label= 'Cluster {}'.format(i));\n",
        "        plt.legend(loc=(1.04,0))\n",
        "    plt.show();"
      ],
      "execution_count": null,
      "outputs": []
    },
    {
      "cell_type": "code",
      "metadata": {
        "id": "JllzjNnqconJ"
      },
      "source": [
        "for i in range(k):\n",
        "    sns.distplot(dfNoSupervisado1.loc[dfNoSupervisado1['Cluster']==i,'QTYVAR'], label= 'Cluster {}'.format(i));\n",
        "    plt.legend(loc=(1.04,0))\n",
        "    plt.show()"
      ],
      "execution_count": null,
      "outputs": []
    }
  ]
}